{
 "cells": [
  {
   "cell_type": "code",
   "execution_count": 2,
   "id": "9368e8df-c8c3-412a-acb9-9fd20141a2e8",
   "metadata": {},
   "outputs": [],
   "source": [
    "import pandas as pd\n",
    "import numpy as np\n",
    "import warnings\n",
    "import geocoder\n",
    "\n",
    "import matplotlib.pyplot as plt\n",
    "import seaborn as sns\n",
    "\n",
    "from mock import train_val_test, xy_split, scaled_data, clean_and_converts\n",
    "from mock2 import eval_model, train_model\n",
    "from env import get_connection\n",
    "\n",
    "from sklearn.linear_model import LinearRegression, LassoLars, TweedieRegressor\n",
    "from sklearn.preprocessing import PolynomialFeatures\n",
    "\n",
    "from sklearn.ensemble import RandomForestRegressor, RandomForestClassifier\n",
    "from xgboost import XGBRegressor\n",
    "\n",
    "from sklearn.feature_selection import SelectKBest, f_regression, RFE\n",
    "from sklearn.model_selection import GridSearchCV"
   ]
  },
  {
   "cell_type": "code",
   "execution_count": 3,
   "id": "93e4834f-badd-4166-8315-9842e7779102",
   "metadata": {},
   "outputs": [
    {
     "data": {
      "text/plain": [
       "(52441, 22)"
      ]
     },
     "execution_count": 3,
     "metadata": {},
     "output_type": "execute_result"
    }
   ],
   "source": [
    "# Call the clean_and_convert() function to obtain a cleaned and converted DataFrame.\n",
    "df = clean_and_converts()\n",
    "\n",
    "# Display the first few rows of the DataFrame 'df' to inspect the data.\n",
    "df.shape"
   ]
  },
  {
   "cell_type": "code",
   "execution_count": 6,
   "id": "5b2e1bb8-d9f8-44d5-8440-1a7ba3a617fb",
   "metadata": {},
   "outputs": [
    {
     "name": "stdout",
     "output_type": "stream",
     "text": [
      "<class 'pandas.core.frame.DataFrame'>\n",
      "RangeIndex: 52441 entries, 0 to 52440\n",
      "Data columns (total 22 columns):\n",
      " #   Column                  Non-Null Count  Dtype   \n",
      "---  ------                  --------------  -----   \n",
      " 0   finishedsquarefeet12    52194 non-null  float64 \n",
      " 1   squarefeet              52359 non-null  float64 \n",
      " 2   latitude                52441 non-null  float64 \n",
      " 3   regionidzip             52415 non-null  float64 \n",
      " 4   longitude               52441 non-null  float64 \n",
      " 5   lotsizesquarefeet       52072 non-null  float64 \n",
      " 6   logerror                52441 non-null  float64 \n",
      " 7   year_built              52325 non-null  float64 \n",
      " 8   id                      52441 non-null  int64   \n",
      " 9   id                      52441 non-null  int64   \n",
      " 10  rawcensustractandblock  52441 non-null  float64 \n",
      " 11  regionidcity            51404 non-null  float64 \n",
      " 12  parcelid                52441 non-null  int64   \n",
      " 13  parcelid                52441 non-null  int64   \n",
      " 14  bathrooms               52441 non-null  float64 \n",
      " 15  bedrooms                52441 non-null  float64 \n",
      " 16  fips                    52441 non-null  float64 \n",
      " 17  tax_value               52440 non-null  float64 \n",
      " 18  bedrooms_bin            52441 non-null  category\n",
      " 19  bathrooms_bin           52441 non-null  category\n",
      " 20  squarefeet_bin          51577 non-null  category\n",
      " 21  decades                 52271 non-null  category\n",
      "dtypes: category(4), float64(14), int64(4)\n",
      "memory usage: 7.4 MB\n"
     ]
    }
   ],
   "source": [
    "df.info()"
   ]
  },
  {
   "cell_type": "code",
   "execution_count": 3,
   "id": "657b387b-a861-45a5-be8f-795b6275c370",
   "metadata": {},
   "outputs": [
    {
     "data": {
      "text/html": [
       "<div>\n",
       "<style scoped>\n",
       "    .dataframe tbody tr th:only-of-type {\n",
       "        vertical-align: middle;\n",
       "    }\n",
       "\n",
       "    .dataframe tbody tr th {\n",
       "        vertical-align: top;\n",
       "    }\n",
       "\n",
       "    .dataframe thead th {\n",
       "        text-align: right;\n",
       "    }\n",
       "</style>\n",
       "<table border=\"1\" class=\"dataframe\">\n",
       "  <thead>\n",
       "    <tr style=\"text-align: right;\">\n",
       "      <th></th>\n",
       "      <th>finishedsquarefeet12</th>\n",
       "      <th>squarefeet</th>\n",
       "      <th>latitude</th>\n",
       "      <th>regionidzip</th>\n",
       "      <th>longitude</th>\n",
       "      <th>lotsizesquarefeet</th>\n",
       "      <th>logerror</th>\n",
       "      <th>year_built</th>\n",
       "      <th>id</th>\n",
       "      <th>id</th>\n",
       "      <th>...</th>\n",
       "      <th>parcelid</th>\n",
       "      <th>parcelid</th>\n",
       "      <th>bathrooms</th>\n",
       "      <th>bedrooms</th>\n",
       "      <th>fips</th>\n",
       "      <th>tax_value</th>\n",
       "      <th>bedrooms_bin</th>\n",
       "      <th>bathrooms_bin</th>\n",
       "      <th>squarefeet_bin</th>\n",
       "      <th>decades</th>\n",
       "    </tr>\n",
       "  </thead>\n",
       "  <tbody>\n",
       "    <tr>\n",
       "      <th>0</th>\n",
       "      <td>3100.0</td>\n",
       "      <td>3100.0</td>\n",
       "      <td>33634931.0</td>\n",
       "      <td>96978.0</td>\n",
       "      <td>-117869207.0</td>\n",
       "      <td>4506.0</td>\n",
       "      <td>0.025595</td>\n",
       "      <td>1998.0</td>\n",
       "      <td>1727539</td>\n",
       "      <td>0</td>\n",
       "      <td>...</td>\n",
       "      <td>14297519</td>\n",
       "      <td>14297519</td>\n",
       "      <td>3.5</td>\n",
       "      <td>4.0</td>\n",
       "      <td>6059.0</td>\n",
       "      <td>1023282.0</td>\n",
       "      <td>6</td>\n",
       "      <td>4</td>\n",
       "      <td>3500</td>\n",
       "      <td>2000</td>\n",
       "    </tr>\n",
       "    <tr>\n",
       "      <th>1</th>\n",
       "      <td>1465.0</td>\n",
       "      <td>1465.0</td>\n",
       "      <td>34449266.0</td>\n",
       "      <td>97099.0</td>\n",
       "      <td>-119281531.0</td>\n",
       "      <td>12647.0</td>\n",
       "      <td>0.055619</td>\n",
       "      <td>1967.0</td>\n",
       "      <td>1387261</td>\n",
       "      <td>1</td>\n",
       "      <td>...</td>\n",
       "      <td>17052889</td>\n",
       "      <td>17052889</td>\n",
       "      <td>1.0</td>\n",
       "      <td>2.0</td>\n",
       "      <td>6111.0</td>\n",
       "      <td>464000.0</td>\n",
       "      <td>3</td>\n",
       "      <td>2</td>\n",
       "      <td>1500</td>\n",
       "      <td>1970</td>\n",
       "    </tr>\n",
       "    <tr>\n",
       "      <th>2</th>\n",
       "      <td>1243.0</td>\n",
       "      <td>1243.0</td>\n",
       "      <td>33886168.0</td>\n",
       "      <td>97078.0</td>\n",
       "      <td>-117823170.0</td>\n",
       "      <td>8432.0</td>\n",
       "      <td>0.005383</td>\n",
       "      <td>1962.0</td>\n",
       "      <td>11677</td>\n",
       "      <td>2</td>\n",
       "      <td>...</td>\n",
       "      <td>14186244</td>\n",
       "      <td>14186244</td>\n",
       "      <td>2.0</td>\n",
       "      <td>3.0</td>\n",
       "      <td>6059.0</td>\n",
       "      <td>564778.0</td>\n",
       "      <td>4</td>\n",
       "      <td>3</td>\n",
       "      <td>1500</td>\n",
       "      <td>1970</td>\n",
       "    </tr>\n",
       "    <tr>\n",
       "      <th>3</th>\n",
       "      <td>2376.0</td>\n",
       "      <td>2376.0</td>\n",
       "      <td>34245180.0</td>\n",
       "      <td>96330.0</td>\n",
       "      <td>-118240722.0</td>\n",
       "      <td>13038.0</td>\n",
       "      <td>-0.103410</td>\n",
       "      <td>1970.0</td>\n",
       "      <td>2288172</td>\n",
       "      <td>3</td>\n",
       "      <td>...</td>\n",
       "      <td>12177905</td>\n",
       "      <td>12177905</td>\n",
       "      <td>3.0</td>\n",
       "      <td>4.0</td>\n",
       "      <td>6037.0</td>\n",
       "      <td>145143.0</td>\n",
       "      <td>6</td>\n",
       "      <td>4</td>\n",
       "      <td>2500</td>\n",
       "      <td>1980</td>\n",
       "    </tr>\n",
       "    <tr>\n",
       "      <th>4</th>\n",
       "      <td>2962.0</td>\n",
       "      <td>2962.0</td>\n",
       "      <td>34145202.0</td>\n",
       "      <td>96293.0</td>\n",
       "      <td>-118179824.0</td>\n",
       "      <td>63000.0</td>\n",
       "      <td>-0.001011</td>\n",
       "      <td>1950.0</td>\n",
       "      <td>781532</td>\n",
       "      <td>6</td>\n",
       "      <td>...</td>\n",
       "      <td>12095076</td>\n",
       "      <td>12095076</td>\n",
       "      <td>3.0</td>\n",
       "      <td>4.0</td>\n",
       "      <td>6037.0</td>\n",
       "      <td>773303.0</td>\n",
       "      <td>6</td>\n",
       "      <td>4</td>\n",
       "      <td>3000</td>\n",
       "      <td>1960</td>\n",
       "    </tr>\n",
       "  </tbody>\n",
       "</table>\n",
       "<p>5 rows × 22 columns</p>\n",
       "</div>"
      ],
      "text/plain": [
       "   finishedsquarefeet12  squarefeet    latitude  regionidzip    longitude  \\\n",
       "0                3100.0      3100.0  33634931.0      96978.0 -117869207.0   \n",
       "1                1465.0      1465.0  34449266.0      97099.0 -119281531.0   \n",
       "2                1243.0      1243.0  33886168.0      97078.0 -117823170.0   \n",
       "3                2376.0      2376.0  34245180.0      96330.0 -118240722.0   \n",
       "4                2962.0      2962.0  34145202.0      96293.0 -118179824.0   \n",
       "\n",
       "   lotsizesquarefeet  logerror  year_built       id  id  ...  parcelid  \\\n",
       "0             4506.0  0.025595      1998.0  1727539   0  ...  14297519   \n",
       "1            12647.0  0.055619      1967.0  1387261   1  ...  17052889   \n",
       "2             8432.0  0.005383      1962.0    11677   2  ...  14186244   \n",
       "3            13038.0 -0.103410      1970.0  2288172   3  ...  12177905   \n",
       "4            63000.0 -0.001011      1950.0   781532   6  ...  12095076   \n",
       "\n",
       "   parcelid  bathrooms  bedrooms    fips  tax_value  bedrooms_bin  \\\n",
       "0  14297519        3.5       4.0  6059.0  1023282.0             6   \n",
       "1  17052889        1.0       2.0  6111.0   464000.0             3   \n",
       "2  14186244        2.0       3.0  6059.0   564778.0             4   \n",
       "3  12177905        3.0       4.0  6037.0   145143.0             6   \n",
       "4  12095076        3.0       4.0  6037.0   773303.0             6   \n",
       "\n",
       "   bathrooms_bin squarefeet_bin decades  \n",
       "0              4           3500    2000  \n",
       "1              2           1500    1970  \n",
       "2              3           1500    1970  \n",
       "3              4           2500    1980  \n",
       "4              4           3000    1960  \n",
       "\n",
       "[5 rows x 22 columns]"
      ]
     },
     "execution_count": 3,
     "metadata": {},
     "output_type": "execute_result"
    }
   ],
   "source": [
    "df.head()"
   ]
  },
  {
   "cell_type": "code",
   "execution_count": 4,
   "id": "8ec58629-e375-4a02-8459-d492ceb317df",
   "metadata": {},
   "outputs": [
    {
     "data": {
      "text/plain": [
       "finishedsquarefeet12    247\n",
       "squarefeet               82\n",
       "latitude                  0\n",
       "regionidzip              26\n",
       "longitude                 0\n",
       "lotsizesquarefeet       369\n",
       "logerror                  0\n",
       "year_built              116\n",
       "id                        0\n",
       "id                        0\n",
       "dtype: int64"
      ]
     },
     "execution_count": 4,
     "metadata": {},
     "output_type": "execute_result"
    }
   ],
   "source": [
    "df.isna().sum().head(10)"
   ]
  },
  {
   "cell_type": "markdown",
   "id": "bdbc961c-8bb3-48ad-9bfb-fa27e7ae2251",
   "metadata": {},
   "source": [
    "columns_to_drop = ['tax_amount', 'basementsqft', 'airconditioningtypeid', 'architecturalstyletypeid', 'censustractandblock', 'buildingclasstypeid', 'buildingqualitytypeid', 'decktypeid', 'finishedfloor1squarefeet', 'finishedsquarefeet13', 'finishedsquarefeet15', 'finishedsquarefeet50', 'finishedsquarefeet6', 'fireplacecnt', 'garagecarcnt', 'garagetotalsqft', 'hashottuborspa', 'heatingorsystemtypeid', 'poolcnt', 'poolsizesum', 'pooltypeid10', 'pooltypeid2', 'pooltypeid7', 'propertyzoningdesc', 'taxdelinquencyflag', 'taxdelinquencyyear', 'numberofstories', 'fireplaceflag', 'yardbuildingsqft26', 'yardbuildingsqft17', 'unitcnt', 'typeconstructiontypeid', 'threequarterbathnbr', 'storytypeid', 'regionidneighborhood', 'landtaxvaluedollarcnt', 'structuretaxvaluedollarcnt', 'transactiondate', 'propertycountylandusecode']\n",
    "df.drop(columns=columns_to_drop, inplace=True)"
   ]
  },
  {
   "cell_type": "markdown",
   "id": "de3aa5f8-bcae-48ad-95f6-d91b7c257828",
   "metadata": {},
   "source": [
    "finishedsquarefeet12 \n",
    "squarefeet\n",
    "latitude\n",
    "regionidzip \n",
    "longitude\n",
    "lotsizesquarefeet \n",
    "logerror \n",
    "year_built\n",
    "id \n",
    "id\n",
    "rawcensustractandblock  \n",
    "regionidcity  \n",
    "parcelid   \n",
    "parcelid    \n",
    "bathrooms   \n",
    "decades   \n",
    "bedrooms    "
   ]
  },
  {
   "cell_type": "code",
   "execution_count": 5,
   "id": "2dbae55b-f4bb-4278-aedc-5bf1ffa80e80",
   "metadata": {},
   "outputs": [
    {
     "data": {
      "text/plain": [
       "(52441, 22)"
      ]
     },
     "execution_count": 5,
     "metadata": {},
     "output_type": "execute_result"
    }
   ],
   "source": [
    "df.shape"
   ]
  },
  {
   "cell_type": "code",
   "execution_count": 6,
   "id": "9e516298-22a9-4c4b-85ce-318ba4df3a5a",
   "metadata": {},
   "outputs": [
    {
     "data": {
      "text/plain": [
       "finishedsquarefeet12       247\n",
       "squarefeet                  82\n",
       "latitude                     0\n",
       "regionidzip                 26\n",
       "longitude                    0\n",
       "lotsizesquarefeet          369\n",
       "logerror                     0\n",
       "year_built                 116\n",
       "id                           0\n",
       "id                           0\n",
       "rawcensustractandblock       0\n",
       "regionidcity              1037\n",
       "parcelid                     0\n",
       "parcelid                     0\n",
       "bathrooms                    0\n",
       "bedrooms                     0\n",
       "fips                         0\n",
       "tax_value                    1\n",
       "bedrooms_bin                 0\n",
       "bathrooms_bin                0\n",
       "squarefeet_bin             864\n",
       "decades                    170\n",
       "dtype: int64"
      ]
     },
     "execution_count": 6,
     "metadata": {},
     "output_type": "execute_result"
    }
   ],
   "source": [
    "df.isna().sum().head(24)"
   ]
  },
  {
   "cell_type": "code",
   "execution_count": 7,
   "id": "675b1150-bcdd-4a4c-85e3-72f96a03083a",
   "metadata": {},
   "outputs": [],
   "source": [
    "df = df.dropna()"
   ]
  },
  {
   "cell_type": "code",
   "execution_count": 8,
   "id": "eda915e7-3767-43e8-8190-fc6583dfc7e5",
   "metadata": {},
   "outputs": [
    {
     "data": {
      "text/plain": [
       "(50027, 22)"
      ]
     },
     "execution_count": 8,
     "metadata": {},
     "output_type": "execute_result"
    }
   ],
   "source": [
    "df.shape"
   ]
  },
  {
   "cell_type": "code",
   "execution_count": 9,
   "id": "01cce6ae-26ad-4403-95f7-9a6074b3dd9f",
   "metadata": {},
   "outputs": [
    {
     "data": {
      "text/plain": [
       "finishedsquarefeet12       float64\n",
       "squarefeet                 float64\n",
       "latitude                   float64\n",
       "regionidzip                float64\n",
       "longitude                  float64\n",
       "lotsizesquarefeet          float64\n",
       "logerror                   float64\n",
       "year_built                 float64\n",
       "id                           int64\n",
       "id                           int64\n",
       "rawcensustractandblock     float64\n",
       "regionidcity               float64\n",
       "parcelid                     int64\n",
       "parcelid                     int64\n",
       "bathrooms                  float64\n",
       "bedrooms                   float64\n",
       "fips                       float64\n",
       "tax_value                  float64\n",
       "bedrooms_bin              category\n",
       "bathrooms_bin             category\n",
       "squarefeet_bin            category\n",
       "decades                   category\n",
       "dtype: object"
      ]
     },
     "execution_count": 9,
     "metadata": {},
     "output_type": "execute_result"
    }
   ],
   "source": [
    "df.dtypes"
   ]
  },
  {
   "cell_type": "code",
   "execution_count": 10,
   "id": "c8e315e8-f646-4ab6-935c-2a5f49bc9c22",
   "metadata": {
    "scrolled": true
   },
   "outputs": [
    {
     "data": {
      "text/html": [
       "<div>\n",
       "<style scoped>\n",
       "    .dataframe tbody tr th:only-of-type {\n",
       "        vertical-align: middle;\n",
       "    }\n",
       "\n",
       "    .dataframe tbody tr th {\n",
       "        vertical-align: top;\n",
       "    }\n",
       "\n",
       "    .dataframe thead th {\n",
       "        text-align: right;\n",
       "    }\n",
       "</style>\n",
       "<table border=\"1\" class=\"dataframe\">\n",
       "  <thead>\n",
       "    <tr style=\"text-align: right;\">\n",
       "      <th></th>\n",
       "      <th>finishedsquarefeet12</th>\n",
       "      <th>squarefeet</th>\n",
       "      <th>latitude</th>\n",
       "      <th>regionidzip</th>\n",
       "      <th>longitude</th>\n",
       "      <th>lotsizesquarefeet</th>\n",
       "      <th>logerror</th>\n",
       "      <th>year_built</th>\n",
       "      <th>id</th>\n",
       "      <th>id</th>\n",
       "      <th>...</th>\n",
       "      <th>parcelid</th>\n",
       "      <th>parcelid</th>\n",
       "      <th>bathrooms</th>\n",
       "      <th>bedrooms</th>\n",
       "      <th>fips</th>\n",
       "      <th>tax_value</th>\n",
       "      <th>bedrooms_bin</th>\n",
       "      <th>bathrooms_bin</th>\n",
       "      <th>squarefeet_bin</th>\n",
       "      <th>decades</th>\n",
       "    </tr>\n",
       "  </thead>\n",
       "  <tbody>\n",
       "    <tr>\n",
       "      <th>0</th>\n",
       "      <td>3100.0</td>\n",
       "      <td>3100.0</td>\n",
       "      <td>33634931.0</td>\n",
       "      <td>96978.0</td>\n",
       "      <td>-117869207.0</td>\n",
       "      <td>4506.0</td>\n",
       "      <td>0.025595</td>\n",
       "      <td>1998.0</td>\n",
       "      <td>1727539</td>\n",
       "      <td>0</td>\n",
       "      <td>...</td>\n",
       "      <td>14297519</td>\n",
       "      <td>14297519</td>\n",
       "      <td>3.5</td>\n",
       "      <td>4.0</td>\n",
       "      <td>6059.0</td>\n",
       "      <td>1023282.0</td>\n",
       "      <td>6</td>\n",
       "      <td>4</td>\n",
       "      <td>3500</td>\n",
       "      <td>2000</td>\n",
       "    </tr>\n",
       "    <tr>\n",
       "      <th>1</th>\n",
       "      <td>1465.0</td>\n",
       "      <td>1465.0</td>\n",
       "      <td>34449266.0</td>\n",
       "      <td>97099.0</td>\n",
       "      <td>-119281531.0</td>\n",
       "      <td>12647.0</td>\n",
       "      <td>0.055619</td>\n",
       "      <td>1967.0</td>\n",
       "      <td>1387261</td>\n",
       "      <td>1</td>\n",
       "      <td>...</td>\n",
       "      <td>17052889</td>\n",
       "      <td>17052889</td>\n",
       "      <td>1.0</td>\n",
       "      <td>2.0</td>\n",
       "      <td>6111.0</td>\n",
       "      <td>464000.0</td>\n",
       "      <td>3</td>\n",
       "      <td>2</td>\n",
       "      <td>1500</td>\n",
       "      <td>1970</td>\n",
       "    </tr>\n",
       "    <tr>\n",
       "      <th>2</th>\n",
       "      <td>1243.0</td>\n",
       "      <td>1243.0</td>\n",
       "      <td>33886168.0</td>\n",
       "      <td>97078.0</td>\n",
       "      <td>-117823170.0</td>\n",
       "      <td>8432.0</td>\n",
       "      <td>0.005383</td>\n",
       "      <td>1962.0</td>\n",
       "      <td>11677</td>\n",
       "      <td>2</td>\n",
       "      <td>...</td>\n",
       "      <td>14186244</td>\n",
       "      <td>14186244</td>\n",
       "      <td>2.0</td>\n",
       "      <td>3.0</td>\n",
       "      <td>6059.0</td>\n",
       "      <td>564778.0</td>\n",
       "      <td>4</td>\n",
       "      <td>3</td>\n",
       "      <td>1500</td>\n",
       "      <td>1970</td>\n",
       "    </tr>\n",
       "    <tr>\n",
       "      <th>3</th>\n",
       "      <td>2376.0</td>\n",
       "      <td>2376.0</td>\n",
       "      <td>34245180.0</td>\n",
       "      <td>96330.0</td>\n",
       "      <td>-118240722.0</td>\n",
       "      <td>13038.0</td>\n",
       "      <td>-0.103410</td>\n",
       "      <td>1970.0</td>\n",
       "      <td>2288172</td>\n",
       "      <td>3</td>\n",
       "      <td>...</td>\n",
       "      <td>12177905</td>\n",
       "      <td>12177905</td>\n",
       "      <td>3.0</td>\n",
       "      <td>4.0</td>\n",
       "      <td>6037.0</td>\n",
       "      <td>145143.0</td>\n",
       "      <td>6</td>\n",
       "      <td>4</td>\n",
       "      <td>2500</td>\n",
       "      <td>1980</td>\n",
       "    </tr>\n",
       "    <tr>\n",
       "      <th>4</th>\n",
       "      <td>2962.0</td>\n",
       "      <td>2962.0</td>\n",
       "      <td>34145202.0</td>\n",
       "      <td>96293.0</td>\n",
       "      <td>-118179824.0</td>\n",
       "      <td>63000.0</td>\n",
       "      <td>-0.001011</td>\n",
       "      <td>1950.0</td>\n",
       "      <td>781532</td>\n",
       "      <td>6</td>\n",
       "      <td>...</td>\n",
       "      <td>12095076</td>\n",
       "      <td>12095076</td>\n",
       "      <td>3.0</td>\n",
       "      <td>4.0</td>\n",
       "      <td>6037.0</td>\n",
       "      <td>773303.0</td>\n",
       "      <td>6</td>\n",
       "      <td>4</td>\n",
       "      <td>3000</td>\n",
       "      <td>1960</td>\n",
       "    </tr>\n",
       "  </tbody>\n",
       "</table>\n",
       "<p>5 rows × 22 columns</p>\n",
       "</div>"
      ],
      "text/plain": [
       "   finishedsquarefeet12  squarefeet    latitude  regionidzip    longitude  \\\n",
       "0                3100.0      3100.0  33634931.0      96978.0 -117869207.0   \n",
       "1                1465.0      1465.0  34449266.0      97099.0 -119281531.0   \n",
       "2                1243.0      1243.0  33886168.0      97078.0 -117823170.0   \n",
       "3                2376.0      2376.0  34245180.0      96330.0 -118240722.0   \n",
       "4                2962.0      2962.0  34145202.0      96293.0 -118179824.0   \n",
       "\n",
       "   lotsizesquarefeet  logerror  year_built       id  id  ...  parcelid  \\\n",
       "0             4506.0  0.025595      1998.0  1727539   0  ...  14297519   \n",
       "1            12647.0  0.055619      1967.0  1387261   1  ...  17052889   \n",
       "2             8432.0  0.005383      1962.0    11677   2  ...  14186244   \n",
       "3            13038.0 -0.103410      1970.0  2288172   3  ...  12177905   \n",
       "4            63000.0 -0.001011      1950.0   781532   6  ...  12095076   \n",
       "\n",
       "   parcelid  bathrooms  bedrooms    fips  tax_value  bedrooms_bin  \\\n",
       "0  14297519        3.5       4.0  6059.0  1023282.0             6   \n",
       "1  17052889        1.0       2.0  6111.0   464000.0             3   \n",
       "2  14186244        2.0       3.0  6059.0   564778.0             4   \n",
       "3  12177905        3.0       4.0  6037.0   145143.0             6   \n",
       "4  12095076        3.0       4.0  6037.0   773303.0             6   \n",
       "\n",
       "   bathrooms_bin squarefeet_bin decades  \n",
       "0              4           3500    2000  \n",
       "1              2           1500    1970  \n",
       "2              3           1500    1970  \n",
       "3              4           2500    1980  \n",
       "4              4           3000    1960  \n",
       "\n",
       "[5 rows x 22 columns]"
      ]
     },
     "execution_count": 10,
     "metadata": {},
     "output_type": "execute_result"
    }
   ],
   "source": [
    "df.head()"
   ]
  },
  {
   "cell_type": "code",
   "execution_count": 11,
   "id": "a7b11d28-d22d-4e80-ac8e-581c81f2cfad",
   "metadata": {},
   "outputs": [],
   "source": [
    "df['state'] = 'CA'"
   ]
  },
  {
   "cell_type": "code",
   "execution_count": 12,
   "id": "24810544-614b-45a0-94ad-5800e7ce9976",
   "metadata": {},
   "outputs": [],
   "source": [
    "# Define a dictionary to map FIPS codes to county names\n",
    "fips_to_county = {\n",
    "    6037: 'Los Angeles County',\n",
    "    6059: 'Orange County',\n",
    "    6111: 'Ventura County'\n",
    "}\n",
    "\n",
    "# Create the 'county' column by mapping the FIPS codes\n",
    "df['county'] = df['fips'].replace(fips_to_county)"
   ]
  },
  {
   "cell_type": "code",
   "execution_count": 13,
   "id": "f32b2cf1-9c07-48f7-b529-93ae124379c4",
   "metadata": {},
   "outputs": [],
   "source": [
    "# Use pd.get_dummies to convert the columns into dummies\n",
    "df = pd.get_dummies(df, columns=['county', 'state'])"
   ]
  },
  {
   "cell_type": "code",
   "execution_count": 14,
   "id": "2983fc77-2179-469b-8a2b-4e726f038eb2",
   "metadata": {
    "scrolled": true
   },
   "outputs": [
    {
     "data": {
      "text/html": [
       "<div>\n",
       "<style scoped>\n",
       "    .dataframe tbody tr th:only-of-type {\n",
       "        vertical-align: middle;\n",
       "    }\n",
       "\n",
       "    .dataframe tbody tr th {\n",
       "        vertical-align: top;\n",
       "    }\n",
       "\n",
       "    .dataframe thead th {\n",
       "        text-align: right;\n",
       "    }\n",
       "</style>\n",
       "<table border=\"1\" class=\"dataframe\">\n",
       "  <thead>\n",
       "    <tr style=\"text-align: right;\">\n",
       "      <th></th>\n",
       "      <th>finishedsquarefeet12</th>\n",
       "      <th>squarefeet</th>\n",
       "      <th>latitude</th>\n",
       "      <th>regionidzip</th>\n",
       "      <th>longitude</th>\n",
       "      <th>lotsizesquarefeet</th>\n",
       "      <th>logerror</th>\n",
       "      <th>year_built</th>\n",
       "      <th>id</th>\n",
       "      <th>id</th>\n",
       "      <th>...</th>\n",
       "      <th>fips</th>\n",
       "      <th>tax_value</th>\n",
       "      <th>bedrooms_bin</th>\n",
       "      <th>bathrooms_bin</th>\n",
       "      <th>squarefeet_bin</th>\n",
       "      <th>decades</th>\n",
       "      <th>county_Los Angeles County</th>\n",
       "      <th>county_Orange County</th>\n",
       "      <th>county_Ventura County</th>\n",
       "      <th>state_CA</th>\n",
       "    </tr>\n",
       "  </thead>\n",
       "  <tbody>\n",
       "    <tr>\n",
       "      <th>0</th>\n",
       "      <td>3100.0</td>\n",
       "      <td>3100.0</td>\n",
       "      <td>33634931.0</td>\n",
       "      <td>96978.0</td>\n",
       "      <td>-117869207.0</td>\n",
       "      <td>4506.0</td>\n",
       "      <td>0.025595</td>\n",
       "      <td>1998.0</td>\n",
       "      <td>1727539</td>\n",
       "      <td>0</td>\n",
       "      <td>...</td>\n",
       "      <td>6059.0</td>\n",
       "      <td>1023282.0</td>\n",
       "      <td>6</td>\n",
       "      <td>4</td>\n",
       "      <td>3500</td>\n",
       "      <td>2000</td>\n",
       "      <td>False</td>\n",
       "      <td>True</td>\n",
       "      <td>False</td>\n",
       "      <td>True</td>\n",
       "    </tr>\n",
       "    <tr>\n",
       "      <th>1</th>\n",
       "      <td>1465.0</td>\n",
       "      <td>1465.0</td>\n",
       "      <td>34449266.0</td>\n",
       "      <td>97099.0</td>\n",
       "      <td>-119281531.0</td>\n",
       "      <td>12647.0</td>\n",
       "      <td>0.055619</td>\n",
       "      <td>1967.0</td>\n",
       "      <td>1387261</td>\n",
       "      <td>1</td>\n",
       "      <td>...</td>\n",
       "      <td>6111.0</td>\n",
       "      <td>464000.0</td>\n",
       "      <td>3</td>\n",
       "      <td>2</td>\n",
       "      <td>1500</td>\n",
       "      <td>1970</td>\n",
       "      <td>False</td>\n",
       "      <td>False</td>\n",
       "      <td>True</td>\n",
       "      <td>True</td>\n",
       "    </tr>\n",
       "    <tr>\n",
       "      <th>2</th>\n",
       "      <td>1243.0</td>\n",
       "      <td>1243.0</td>\n",
       "      <td>33886168.0</td>\n",
       "      <td>97078.0</td>\n",
       "      <td>-117823170.0</td>\n",
       "      <td>8432.0</td>\n",
       "      <td>0.005383</td>\n",
       "      <td>1962.0</td>\n",
       "      <td>11677</td>\n",
       "      <td>2</td>\n",
       "      <td>...</td>\n",
       "      <td>6059.0</td>\n",
       "      <td>564778.0</td>\n",
       "      <td>4</td>\n",
       "      <td>3</td>\n",
       "      <td>1500</td>\n",
       "      <td>1970</td>\n",
       "      <td>False</td>\n",
       "      <td>True</td>\n",
       "      <td>False</td>\n",
       "      <td>True</td>\n",
       "    </tr>\n",
       "    <tr>\n",
       "      <th>3</th>\n",
       "      <td>2376.0</td>\n",
       "      <td>2376.0</td>\n",
       "      <td>34245180.0</td>\n",
       "      <td>96330.0</td>\n",
       "      <td>-118240722.0</td>\n",
       "      <td>13038.0</td>\n",
       "      <td>-0.103410</td>\n",
       "      <td>1970.0</td>\n",
       "      <td>2288172</td>\n",
       "      <td>3</td>\n",
       "      <td>...</td>\n",
       "      <td>6037.0</td>\n",
       "      <td>145143.0</td>\n",
       "      <td>6</td>\n",
       "      <td>4</td>\n",
       "      <td>2500</td>\n",
       "      <td>1980</td>\n",
       "      <td>True</td>\n",
       "      <td>False</td>\n",
       "      <td>False</td>\n",
       "      <td>True</td>\n",
       "    </tr>\n",
       "    <tr>\n",
       "      <th>4</th>\n",
       "      <td>2962.0</td>\n",
       "      <td>2962.0</td>\n",
       "      <td>34145202.0</td>\n",
       "      <td>96293.0</td>\n",
       "      <td>-118179824.0</td>\n",
       "      <td>63000.0</td>\n",
       "      <td>-0.001011</td>\n",
       "      <td>1950.0</td>\n",
       "      <td>781532</td>\n",
       "      <td>6</td>\n",
       "      <td>...</td>\n",
       "      <td>6037.0</td>\n",
       "      <td>773303.0</td>\n",
       "      <td>6</td>\n",
       "      <td>4</td>\n",
       "      <td>3000</td>\n",
       "      <td>1960</td>\n",
       "      <td>True</td>\n",
       "      <td>False</td>\n",
       "      <td>False</td>\n",
       "      <td>True</td>\n",
       "    </tr>\n",
       "  </tbody>\n",
       "</table>\n",
       "<p>5 rows × 26 columns</p>\n",
       "</div>"
      ],
      "text/plain": [
       "   finishedsquarefeet12  squarefeet    latitude  regionidzip    longitude  \\\n",
       "0                3100.0      3100.0  33634931.0      96978.0 -117869207.0   \n",
       "1                1465.0      1465.0  34449266.0      97099.0 -119281531.0   \n",
       "2                1243.0      1243.0  33886168.0      97078.0 -117823170.0   \n",
       "3                2376.0      2376.0  34245180.0      96330.0 -118240722.0   \n",
       "4                2962.0      2962.0  34145202.0      96293.0 -118179824.0   \n",
       "\n",
       "   lotsizesquarefeet  logerror  year_built       id  id  ...    fips  \\\n",
       "0             4506.0  0.025595      1998.0  1727539   0  ...  6059.0   \n",
       "1            12647.0  0.055619      1967.0  1387261   1  ...  6111.0   \n",
       "2             8432.0  0.005383      1962.0    11677   2  ...  6059.0   \n",
       "3            13038.0 -0.103410      1970.0  2288172   3  ...  6037.0   \n",
       "4            63000.0 -0.001011      1950.0   781532   6  ...  6037.0   \n",
       "\n",
       "   tax_value  bedrooms_bin  bathrooms_bin  squarefeet_bin  decades  \\\n",
       "0  1023282.0             6              4            3500     2000   \n",
       "1   464000.0             3              2            1500     1970   \n",
       "2   564778.0             4              3            1500     1970   \n",
       "3   145143.0             6              4            2500     1980   \n",
       "4   773303.0             6              4            3000     1960   \n",
       "\n",
       "   county_Los Angeles County  county_Orange County county_Ventura County  \\\n",
       "0                      False                  True                 False   \n",
       "1                      False                 False                  True   \n",
       "2                      False                  True                 False   \n",
       "3                       True                 False                 False   \n",
       "4                       True                 False                 False   \n",
       "\n",
       "  state_CA  \n",
       "0     True  \n",
       "1     True  \n",
       "2     True  \n",
       "3     True  \n",
       "4     True  \n",
       "\n",
       "[5 rows x 26 columns]"
      ]
     },
     "execution_count": 14,
     "metadata": {},
     "output_type": "execute_result"
    }
   ],
   "source": [
    "df.head()"
   ]
  },
  {
   "cell_type": "code",
   "execution_count": 15,
   "id": "2a8bd8db-9cce-4c4a-b000-7d29e5f6ec21",
   "metadata": {},
   "outputs": [],
   "source": [
    "# Split the DataFrame 'df' into training, validation, and test sets using the train_val_test function.\n",
    "train, val, test = train_val_test(df)"
   ]
  },
  {
   "cell_type": "code",
   "execution_count": 16,
   "id": "f2c05971-7e31-450f-bab3-dd89f994d2bd",
   "metadata": {},
   "outputs": [
    {
     "data": {
      "text/plain": [
       "((35018, 26), (7504, 26), (7505, 26))"
      ]
     },
     "execution_count": 16,
     "metadata": {},
     "output_type": "execute_result"
    }
   ],
   "source": [
    "# Check the dimensions (number of rows and columns) of the training, validation, and test sets.\n",
    "train.shape, val.shape, test.shape"
   ]
  },
  {
   "cell_type": "code",
   "execution_count": 17,
   "id": "252260aa-2faf-44f5-811e-0b73520d1321",
   "metadata": {},
   "outputs": [
    {
     "data": {
      "text/html": [
       "<div>\n",
       "<style scoped>\n",
       "    .dataframe tbody tr th:only-of-type {\n",
       "        vertical-align: middle;\n",
       "    }\n",
       "\n",
       "    .dataframe tbody tr th {\n",
       "        vertical-align: top;\n",
       "    }\n",
       "\n",
       "    .dataframe thead th {\n",
       "        text-align: right;\n",
       "    }\n",
       "</style>\n",
       "<table border=\"1\" class=\"dataframe\">\n",
       "  <thead>\n",
       "    <tr style=\"text-align: right;\">\n",
       "      <th></th>\n",
       "      <th>finishedsquarefeet12</th>\n",
       "      <th>squarefeet</th>\n",
       "      <th>latitude</th>\n",
       "      <th>regionidzip</th>\n",
       "      <th>longitude</th>\n",
       "      <th>lotsizesquarefeet</th>\n",
       "      <th>logerror</th>\n",
       "      <th>year_built</th>\n",
       "      <th>id</th>\n",
       "      <th>id</th>\n",
       "      <th>...</th>\n",
       "      <th>fips</th>\n",
       "      <th>tax_value</th>\n",
       "      <th>bedrooms_bin</th>\n",
       "      <th>bathrooms_bin</th>\n",
       "      <th>squarefeet_bin</th>\n",
       "      <th>decades</th>\n",
       "      <th>county_Los Angeles County</th>\n",
       "      <th>county_Orange County</th>\n",
       "      <th>county_Ventura County</th>\n",
       "      <th>state_CA</th>\n",
       "    </tr>\n",
       "  </thead>\n",
       "  <tbody>\n",
       "    <tr>\n",
       "      <th>12650</th>\n",
       "      <td>0.501129</td>\n",
       "      <td>0.501129</td>\n",
       "      <td>0.546056</td>\n",
       "      <td>0.001498</td>\n",
       "      <td>0.588121</td>\n",
       "      <td>0.001693</td>\n",
       "      <td>0.572231</td>\n",
       "      <td>0.356522</td>\n",
       "      <td>0.885777</td>\n",
       "      <td>0.242572</td>\n",
       "      <td>...</td>\n",
       "      <td>0.000000</td>\n",
       "      <td>1319825.0</td>\n",
       "      <td>0.043478</td>\n",
       "      <td>0.142857</td>\n",
       "      <td>0.555556</td>\n",
       "      <td>0.363636</td>\n",
       "      <td>1.0</td>\n",
       "      <td>0.0</td>\n",
       "      <td>0.0</td>\n",
       "      <td>0.0</td>\n",
       "    </tr>\n",
       "    <tr>\n",
       "      <th>24542</th>\n",
       "      <td>0.279614</td>\n",
       "      <td>0.279614</td>\n",
       "      <td>0.431156</td>\n",
       "      <td>0.001679</td>\n",
       "      <td>0.835087</td>\n",
       "      <td>0.000917</td>\n",
       "      <td>0.595267</td>\n",
       "      <td>0.556522</td>\n",
       "      <td>0.683202</td>\n",
       "      <td>0.470081</td>\n",
       "      <td>...</td>\n",
       "      <td>0.000000</td>\n",
       "      <td>133899.0</td>\n",
       "      <td>0.086957</td>\n",
       "      <td>0.142857</td>\n",
       "      <td>0.222222</td>\n",
       "      <td>0.545455</td>\n",
       "      <td>1.0</td>\n",
       "      <td>0.0</td>\n",
       "      <td>0.0</td>\n",
       "      <td>0.0</td>\n",
       "    </tr>\n",
       "    <tr>\n",
       "      <th>35215</th>\n",
       "      <td>0.240608</td>\n",
       "      <td>0.240608</td>\n",
       "      <td>0.357690</td>\n",
       "      <td>0.003576</td>\n",
       "      <td>0.844042</td>\n",
       "      <td>0.000079</td>\n",
       "      <td>0.591695</td>\n",
       "      <td>0.747826</td>\n",
       "      <td>0.719068</td>\n",
       "      <td>0.670519</td>\n",
       "      <td>...</td>\n",
       "      <td>0.297297</td>\n",
       "      <td>197803.0</td>\n",
       "      <td>0.043478</td>\n",
       "      <td>0.142857</td>\n",
       "      <td>0.222222</td>\n",
       "      <td>0.727273</td>\n",
       "      <td>0.0</td>\n",
       "      <td>1.0</td>\n",
       "      <td>0.0</td>\n",
       "      <td>0.0</td>\n",
       "    </tr>\n",
       "    <tr>\n",
       "      <th>20857</th>\n",
       "      <td>0.274482</td>\n",
       "      <td>0.274482</td>\n",
       "      <td>0.592220</td>\n",
       "      <td>0.001413</td>\n",
       "      <td>0.545306</td>\n",
       "      <td>0.000897</td>\n",
       "      <td>0.593262</td>\n",
       "      <td>0.478261</td>\n",
       "      <td>0.995675</td>\n",
       "      <td>0.400657</td>\n",
       "      <td>...</td>\n",
       "      <td>0.000000</td>\n",
       "      <td>449000.0</td>\n",
       "      <td>0.086957</td>\n",
       "      <td>0.142857</td>\n",
       "      <td>0.222222</td>\n",
       "      <td>0.454545</td>\n",
       "      <td>1.0</td>\n",
       "      <td>0.0</td>\n",
       "      <td>0.0</td>\n",
       "      <td>0.0</td>\n",
       "    </tr>\n",
       "    <tr>\n",
       "      <th>42700</th>\n",
       "      <td>0.239786</td>\n",
       "      <td>0.239786</td>\n",
       "      <td>0.272867</td>\n",
       "      <td>0.003405</td>\n",
       "      <td>0.873301</td>\n",
       "      <td>0.000235</td>\n",
       "      <td>0.608868</td>\n",
       "      <td>0.547826</td>\n",
       "      <td>0.719256</td>\n",
       "      <td>0.813104</td>\n",
       "      <td>...</td>\n",
       "      <td>0.297297</td>\n",
       "      <td>56379.0</td>\n",
       "      <td>0.086957</td>\n",
       "      <td>0.142857</td>\n",
       "      <td>0.222222</td>\n",
       "      <td>0.545455</td>\n",
       "      <td>0.0</td>\n",
       "      <td>1.0</td>\n",
       "      <td>0.0</td>\n",
       "      <td>0.0</td>\n",
       "    </tr>\n",
       "  </tbody>\n",
       "</table>\n",
       "<p>5 rows × 26 columns</p>\n",
       "</div>"
      ],
      "text/plain": [
       "       finishedsquarefeet12  squarefeet  latitude  regionidzip  longitude  \\\n",
       "12650              0.501129    0.501129  0.546056     0.001498   0.588121   \n",
       "24542              0.279614    0.279614  0.431156     0.001679   0.835087   \n",
       "35215              0.240608    0.240608  0.357690     0.003576   0.844042   \n",
       "20857              0.274482    0.274482  0.592220     0.001413   0.545306   \n",
       "42700              0.239786    0.239786  0.272867     0.003405   0.873301   \n",
       "\n",
       "       lotsizesquarefeet  logerror  year_built        id        id  ...  \\\n",
       "12650           0.001693  0.572231    0.356522  0.885777  0.242572  ...   \n",
       "24542           0.000917  0.595267    0.556522  0.683202  0.470081  ...   \n",
       "35215           0.000079  0.591695    0.747826  0.719068  0.670519  ...   \n",
       "20857           0.000897  0.593262    0.478261  0.995675  0.400657  ...   \n",
       "42700           0.000235  0.608868    0.547826  0.719256  0.813104  ...   \n",
       "\n",
       "           fips  tax_value  bedrooms_bin  bathrooms_bin  squarefeet_bin  \\\n",
       "12650  0.000000  1319825.0      0.043478       0.142857        0.555556   \n",
       "24542  0.000000   133899.0      0.086957       0.142857        0.222222   \n",
       "35215  0.297297   197803.0      0.043478       0.142857        0.222222   \n",
       "20857  0.000000   449000.0      0.086957       0.142857        0.222222   \n",
       "42700  0.297297    56379.0      0.086957       0.142857        0.222222   \n",
       "\n",
       "        decades  county_Los Angeles County  county_Orange County  \\\n",
       "12650  0.363636                        1.0                   0.0   \n",
       "24542  0.545455                        1.0                   0.0   \n",
       "35215  0.727273                        0.0                   1.0   \n",
       "20857  0.454545                        1.0                   0.0   \n",
       "42700  0.545455                        0.0                   1.0   \n",
       "\n",
       "       county_Ventura County  state_CA  \n",
       "12650                    0.0       0.0  \n",
       "24542                    0.0       0.0  \n",
       "35215                    0.0       0.0  \n",
       "20857                    0.0       0.0  \n",
       "42700                    0.0       0.0  \n",
       "\n",
       "[5 rows x 26 columns]"
      ]
     },
     "execution_count": 17,
     "metadata": {},
     "output_type": "execute_result"
    }
   ],
   "source": [
    "# Define a list of column names to be scaled, excluding the 'tax_value' column.\n",
    "to_scale = df.drop(columns=['tax_value']).columns\n",
    "\n",
    "# Scale the training, validation, and test datasets using the specified columns.\n",
    "train, val, test = scaled_data(train, val, test, to_scale, scaler_type='minmax')\n",
    "\n",
    "train.head()"
   ]
  },
  {
   "cell_type": "code",
   "execution_count": 18,
   "id": "e46332a8-0c6b-4eea-a135-874bbe427cea",
   "metadata": {},
   "outputs": [],
   "source": [
    "# Split the 'train' dataset into feature matrix (X_train) and target vector (y_train).\n",
    "X_train, y_train = xy_split(train)\n",
    "\n",
    "# Split the 'val' dataset into feature matrix (X_val) and target vector (y_val).\n",
    "X_val, y_val = xy_split(val)"
   ]
  },
  {
   "cell_type": "code",
   "execution_count": 19,
   "id": "5d23d988-91ab-42dd-95ad-84e3628be2bb",
   "metadata": {},
   "outputs": [
    {
     "data": {
      "text/plain": [
       "(482910.5436632589, 364341.5)"
      ]
     },
     "execution_count": 19,
     "metadata": {},
     "output_type": "execute_result"
    }
   ],
   "source": [
    "# Calculate the mean and median of the target vector 'y_train'.\n",
    "y_train.mean(), y_train.median()"
   ]
  },
  {
   "cell_type": "code",
   "execution_count": 20,
   "id": "12b6ae2f-75ea-415d-929b-ac8197155515",
   "metadata": {},
   "outputs": [
    {
     "data": {
      "text/html": [
       "<div>\n",
       "<style scoped>\n",
       "    .dataframe tbody tr th:only-of-type {\n",
       "        vertical-align: middle;\n",
       "    }\n",
       "\n",
       "    .dataframe tbody tr th {\n",
       "        vertical-align: top;\n",
       "    }\n",
       "\n",
       "    .dataframe thead th {\n",
       "        text-align: right;\n",
       "    }\n",
       "</style>\n",
       "<table border=\"1\" class=\"dataframe\">\n",
       "  <thead>\n",
       "    <tr style=\"text-align: right;\">\n",
       "      <th></th>\n",
       "      <th>y_actual</th>\n",
       "      <th>y_mean</th>\n",
       "      <th>y_median</th>\n",
       "    </tr>\n",
       "  </thead>\n",
       "  <tbody>\n",
       "    <tr>\n",
       "      <th>12650</th>\n",
       "      <td>1319825.0</td>\n",
       "      <td>482910.543663</td>\n",
       "      <td>364341.5</td>\n",
       "    </tr>\n",
       "    <tr>\n",
       "      <th>24542</th>\n",
       "      <td>133899.0</td>\n",
       "      <td>482910.543663</td>\n",
       "      <td>364341.5</td>\n",
       "    </tr>\n",
       "    <tr>\n",
       "      <th>35215</th>\n",
       "      <td>197803.0</td>\n",
       "      <td>482910.543663</td>\n",
       "      <td>364341.5</td>\n",
       "    </tr>\n",
       "    <tr>\n",
       "      <th>20857</th>\n",
       "      <td>449000.0</td>\n",
       "      <td>482910.543663</td>\n",
       "      <td>364341.5</td>\n",
       "    </tr>\n",
       "    <tr>\n",
       "      <th>42700</th>\n",
       "      <td>56379.0</td>\n",
       "      <td>482910.543663</td>\n",
       "      <td>364341.5</td>\n",
       "    </tr>\n",
       "  </tbody>\n",
       "</table>\n",
       "</div>"
      ],
      "text/plain": [
       "        y_actual         y_mean  y_median\n",
       "12650  1319825.0  482910.543663  364341.5\n",
       "24542   133899.0  482910.543663  364341.5\n",
       "35215   197803.0  482910.543663  364341.5\n",
       "20857   449000.0  482910.543663  364341.5\n",
       "42700    56379.0  482910.543663  364341.5"
      ]
     },
     "execution_count": 20,
     "metadata": {},
     "output_type": "execute_result"
    }
   ],
   "source": [
    "# Create a DataFrame 'baselines' with three columns: 'y_actual,' 'y_mean,' and 'y_median.'\n",
    "baselines = pd.DataFrame({\n",
    "    'y_actual': y_train,        # Actual target values from the training dataset.\n",
    "    'y_mean': y_train.mean(),  # Mean of the target values from the training dataset.\n",
    "    'y_median': y_train.median()  # Median of the target values from the training dataset.\n",
    "})\n",
    "\n",
    "\n",
    "baselines.head()"
   ]
  },
  {
   "cell_type": "code",
   "execution_count": 21,
   "id": "5811c845-1d2e-4dd6-8683-3f0ec5f4ea17",
   "metadata": {},
   "outputs": [
    {
     "data": {
      "text/plain": [
       "523729.6325773532"
      ]
     },
     "execution_count": 21,
     "metadata": {},
     "output_type": "execute_result"
    }
   ],
   "source": [
    "# Evaluate the model's performance by comparing its predictions against the mean ('y_mean') of the target values.\n",
    "eval_model(baselines.y_actual, baselines.y_mean)"
   ]
  },
  {
   "cell_type": "code",
   "execution_count": 22,
   "id": "fa9215ee-d1bd-468a-bbed-b9d38b9cc343",
   "metadata": {},
   "outputs": [
    {
     "data": {
      "text/plain": [
       "536983.5622761921"
      ]
     },
     "execution_count": 22,
     "metadata": {},
     "output_type": "execute_result"
    }
   ],
   "source": [
    "# Evaluate the model's performance by comparing its predictions against the median ('y_median') of the target values.\n",
    "eval_model(baselines.y_actual, baselines.y_median)"
   ]
  },
  {
   "cell_type": "code",
   "execution_count": null,
   "id": "a40b27b4-b9d1-4efa-93e5-e64b062fcd52",
   "metadata": {},
   "outputs": [],
   "source": []
  },
  {
   "cell_type": "markdown",
   "id": "de0126de-10c1-4205-9d6a-4601039888a4",
   "metadata": {},
   "source": [
    "## LinearRegression"
   ]
  },
  {
   "cell_type": "code",
   "execution_count": 23,
   "id": "9972f361-abbd-4062-a8e6-3d06b883a24f",
   "metadata": {},
   "outputs": [
    {
     "name": "stdout",
     "output_type": "stream",
     "text": [
      "The train RMSE is 422640.7368114309.\n",
      "The validate RMSE is 413432.47373416397.\n"
     ]
    },
    {
     "data": {
      "text/html": [
       "<style>#sk-container-id-1 {color: black;}#sk-container-id-1 pre{padding: 0;}#sk-container-id-1 div.sk-toggleable {background-color: white;}#sk-container-id-1 label.sk-toggleable__label {cursor: pointer;display: block;width: 100%;margin-bottom: 0;padding: 0.3em;box-sizing: border-box;text-align: center;}#sk-container-id-1 label.sk-toggleable__label-arrow:before {content: \"▸\";float: left;margin-right: 0.25em;color: #696969;}#sk-container-id-1 label.sk-toggleable__label-arrow:hover:before {color: black;}#sk-container-id-1 div.sk-estimator:hover label.sk-toggleable__label-arrow:before {color: black;}#sk-container-id-1 div.sk-toggleable__content {max-height: 0;max-width: 0;overflow: hidden;text-align: left;background-color: #f0f8ff;}#sk-container-id-1 div.sk-toggleable__content pre {margin: 0.2em;color: black;border-radius: 0.25em;background-color: #f0f8ff;}#sk-container-id-1 input.sk-toggleable__control:checked~div.sk-toggleable__content {max-height: 200px;max-width: 100%;overflow: auto;}#sk-container-id-1 input.sk-toggleable__control:checked~label.sk-toggleable__label-arrow:before {content: \"▾\";}#sk-container-id-1 div.sk-estimator input.sk-toggleable__control:checked~label.sk-toggleable__label {background-color: #d4ebff;}#sk-container-id-1 div.sk-label input.sk-toggleable__control:checked~label.sk-toggleable__label {background-color: #d4ebff;}#sk-container-id-1 input.sk-hidden--visually {border: 0;clip: rect(1px 1px 1px 1px);clip: rect(1px, 1px, 1px, 1px);height: 1px;margin: -1px;overflow: hidden;padding: 0;position: absolute;width: 1px;}#sk-container-id-1 div.sk-estimator {font-family: monospace;background-color: #f0f8ff;border: 1px dotted black;border-radius: 0.25em;box-sizing: border-box;margin-bottom: 0.5em;}#sk-container-id-1 div.sk-estimator:hover {background-color: #d4ebff;}#sk-container-id-1 div.sk-parallel-item::after {content: \"\";width: 100%;border-bottom: 1px solid gray;flex-grow: 1;}#sk-container-id-1 div.sk-label:hover label.sk-toggleable__label {background-color: #d4ebff;}#sk-container-id-1 div.sk-serial::before {content: \"\";position: absolute;border-left: 1px solid gray;box-sizing: border-box;top: 0;bottom: 0;left: 50%;z-index: 0;}#sk-container-id-1 div.sk-serial {display: flex;flex-direction: column;align-items: center;background-color: white;padding-right: 0.2em;padding-left: 0.2em;position: relative;}#sk-container-id-1 div.sk-item {position: relative;z-index: 1;}#sk-container-id-1 div.sk-parallel {display: flex;align-items: stretch;justify-content: center;background-color: white;position: relative;}#sk-container-id-1 div.sk-item::before, #sk-container-id-1 div.sk-parallel-item::before {content: \"\";position: absolute;border-left: 1px solid gray;box-sizing: border-box;top: 0;bottom: 0;left: 50%;z-index: -1;}#sk-container-id-1 div.sk-parallel-item {display: flex;flex-direction: column;z-index: 1;position: relative;background-color: white;}#sk-container-id-1 div.sk-parallel-item:first-child::after {align-self: flex-end;width: 50%;}#sk-container-id-1 div.sk-parallel-item:last-child::after {align-self: flex-start;width: 50%;}#sk-container-id-1 div.sk-parallel-item:only-child::after {width: 0;}#sk-container-id-1 div.sk-dashed-wrapped {border: 1px dashed gray;margin: 0 0.4em 0.5em 0.4em;box-sizing: border-box;padding-bottom: 0.4em;background-color: white;}#sk-container-id-1 div.sk-label label {font-family: monospace;font-weight: bold;display: inline-block;line-height: 1.2em;}#sk-container-id-1 div.sk-label-container {text-align: center;}#sk-container-id-1 div.sk-container {/* jupyter's `normalize.less` sets `[hidden] { display: none; }` but bootstrap.min.css set `[hidden] { display: none !important; }` so we also need the `!important` here to be able to override the default hidden behavior on the sphinx rendered scikit-learn.org. See: https://github.com/scikit-learn/scikit-learn/issues/21755 */display: inline-block !important;position: relative;}#sk-container-id-1 div.sk-text-repr-fallback {display: none;}</style><div id=\"sk-container-id-1\" class=\"sk-top-container\"><div class=\"sk-text-repr-fallback\"><pre>LinearRegression()</pre><b>In a Jupyter environment, please rerun this cell to show the HTML representation or trust the notebook. <br />On GitHub, the HTML representation is unable to render, please try loading this page with nbviewer.org.</b></div><div class=\"sk-container\" hidden><div class=\"sk-item\"><div class=\"sk-estimator sk-toggleable\"><input class=\"sk-toggleable__control sk-hidden--visually\" id=\"sk-estimator-id-1\" type=\"checkbox\" checked><label for=\"sk-estimator-id-1\" class=\"sk-toggleable__label sk-toggleable__label-arrow\">LinearRegression</label><div class=\"sk-toggleable__content\"><pre>LinearRegression()</pre></div></div></div></div></div>"
      ],
      "text/plain": [
       "LinearRegression()"
      ]
     },
     "execution_count": 23,
     "metadata": {},
     "output_type": "execute_result"
    }
   ],
   "source": [
    "# Create an instance of the Linear Regression model.\n",
    "lm = LinearRegression()\n",
    "\n",
    "# Train the Linear Regression model on the training data (X_train, y_train).\n",
    "# Evaluate its performance using the validation data (X_val, y_val).\n",
    "train_model(lm, X_train, y_train, X_val, y_val)"
   ]
  },
  {
   "cell_type": "code",
   "execution_count": 24,
   "id": "9c2e0a9c-12df-45fc-be18-903551e1ce86",
   "metadata": {},
   "outputs": [],
   "source": [
    "def select_kbest(X, y, k):\n",
    "   \n",
    "    # Create an instance of SelectKBest with the f_regression scoring function and select the top 2 features.\n",
    "    skb = SelectKBest(score_func=f_regression, k=k)\n",
    "    \n",
    "    # Fit the SelectKBest instance to your feature variables (X) and target variable (y).\n",
    "    skb.fit(X, y)\n",
    "\n",
    "    # Get a Boolean mask indicating the selected features by SelectKBest.\n",
    "    skb_mask = skb.get_support(indices=True)\n",
    "    \n",
    "    return pd.DataFrame(X.columns[skb_mask])"
   ]
  },
  {
   "cell_type": "code",
   "execution_count": 25,
   "id": "9984ad1b-1298-4087-b018-9a82e1bbe80b",
   "metadata": {},
   "outputs": [
    {
     "data": {
      "text/html": [
       "<div>\n",
       "<style scoped>\n",
       "    .dataframe tbody tr th:only-of-type {\n",
       "        vertical-align: middle;\n",
       "    }\n",
       "\n",
       "    .dataframe tbody tr th {\n",
       "        vertical-align: top;\n",
       "    }\n",
       "\n",
       "    .dataframe thead th {\n",
       "        text-align: right;\n",
       "    }\n",
       "</style>\n",
       "<table border=\"1\" class=\"dataframe\">\n",
       "  <thead>\n",
       "    <tr style=\"text-align: right;\">\n",
       "      <th></th>\n",
       "      <th>0</th>\n",
       "    </tr>\n",
       "  </thead>\n",
       "  <tbody>\n",
       "    <tr>\n",
       "      <th>0</th>\n",
       "      <td>finishedsquarefeet12</td>\n",
       "    </tr>\n",
       "    <tr>\n",
       "      <th>1</th>\n",
       "      <td>squarefeet</td>\n",
       "    </tr>\n",
       "    <tr>\n",
       "      <th>2</th>\n",
       "      <td>bathrooms</td>\n",
       "    </tr>\n",
       "    <tr>\n",
       "      <th>3</th>\n",
       "      <td>bathrooms_bin</td>\n",
       "    </tr>\n",
       "    <tr>\n",
       "      <th>4</th>\n",
       "      <td>squarefeet_bin</td>\n",
       "    </tr>\n",
       "  </tbody>\n",
       "</table>\n",
       "</div>"
      ],
      "text/plain": [
       "                      0\n",
       "0  finishedsquarefeet12\n",
       "1            squarefeet\n",
       "2             bathrooms\n",
       "3         bathrooms_bin\n",
       "4        squarefeet_bin"
      ]
     },
     "execution_count": 25,
     "metadata": {},
     "output_type": "execute_result"
    }
   ],
   "source": [
    "select_kbest(X_train, y_train, k=5)"
   ]
  },
  {
   "cell_type": "markdown",
   "id": "1e9ab7ed-90e2-4e4c-b610-97e4096d6ce8",
   "metadata": {},
   "source": [
    "## LassoLars"
   ]
  },
  {
   "cell_type": "code",
   "execution_count": 26,
   "id": "cca879cc-b1e9-46f4-8ac9-8427b7f3cb5b",
   "metadata": {},
   "outputs": [
    {
     "name": "stdout",
     "output_type": "stream",
     "text": [
      "The train RMSE is 440586.5674935113.\n",
      "The validate RMSE is 430577.7126510773.\n"
     ]
    },
    {
     "name": "stderr",
     "output_type": "stream",
     "text": [
      "/opt/homebrew/anaconda3/lib/python3.10/site-packages/sklearn/linear_model/_least_angle.py:645: ConvergenceWarning: Regressors in active set degenerate. Dropping a regressor, after 2 iterations, i.e. alpha=1.339e+04, with an active set of 2 regressors, and the smallest cholesky pivot element being 2.220e-16. Reduce max_iter or increase eps parameters.\n",
      "  warnings.warn(\n",
      "/opt/homebrew/anaconda3/lib/python3.10/site-packages/sklearn/linear_model/_least_angle.py:645: ConvergenceWarning: Regressors in active set degenerate. Dropping a regressor, after 4 iterations, i.e. alpha=4.837e+03, with an active set of 4 regressors, and the smallest cholesky pivot element being 2.220e-16. Reduce max_iter or increase eps parameters.\n",
      "  warnings.warn(\n",
      "/opt/homebrew/anaconda3/lib/python3.10/site-packages/sklearn/linear_model/_least_angle.py:645: ConvergenceWarning: Regressors in active set degenerate. Dropping a regressor, after 6 iterations, i.e. alpha=4.138e+03, with an active set of 6 regressors, and the smallest cholesky pivot element being 2.220e-16. Reduce max_iter or increase eps parameters.\n",
      "  warnings.warn(\n",
      "/opt/homebrew/anaconda3/lib/python3.10/site-packages/sklearn/linear_model/_least_angle.py:645: ConvergenceWarning: Regressors in active set degenerate. Dropping a regressor, after 9 iterations, i.e. alpha=2.206e+03, with an active set of 9 regressors, and the smallest cholesky pivot element being 2.220e-16. Reduce max_iter or increase eps parameters.\n",
      "  warnings.warn(\n",
      "/opt/homebrew/anaconda3/lib/python3.10/site-packages/sklearn/linear_model/_least_angle.py:645: ConvergenceWarning: Regressors in active set degenerate. Dropping a regressor, after 12 iterations, i.e. alpha=6.393e+02, with an active set of 10 regressors, and the smallest cholesky pivot element being 2.220e-16. Reduce max_iter or increase eps parameters.\n",
      "  warnings.warn(\n",
      "/opt/homebrew/anaconda3/lib/python3.10/site-packages/sklearn/linear_model/_least_angle.py:645: ConvergenceWarning: Regressors in active set degenerate. Dropping a regressor, after 13 iterations, i.e. alpha=5.465e+02, with an active set of 11 regressors, and the smallest cholesky pivot element being 2.220e-16. Reduce max_iter or increase eps parameters.\n",
      "  warnings.warn(\n",
      "/opt/homebrew/anaconda3/lib/python3.10/site-packages/sklearn/linear_model/_least_angle.py:675: ConvergenceWarning: Early stopping the lars path, as the residues are small and the current value of alpha is no longer well controlled. 14 iterations, alpha=5.942e+02, previous alpha=3.802e+02, with an active set of 11 regressors.\n",
      "  warnings.warn(\n"
     ]
    },
    {
     "data": {
      "text/html": [
       "<style>#sk-container-id-2 {color: black;}#sk-container-id-2 pre{padding: 0;}#sk-container-id-2 div.sk-toggleable {background-color: white;}#sk-container-id-2 label.sk-toggleable__label {cursor: pointer;display: block;width: 100%;margin-bottom: 0;padding: 0.3em;box-sizing: border-box;text-align: center;}#sk-container-id-2 label.sk-toggleable__label-arrow:before {content: \"▸\";float: left;margin-right: 0.25em;color: #696969;}#sk-container-id-2 label.sk-toggleable__label-arrow:hover:before {color: black;}#sk-container-id-2 div.sk-estimator:hover label.sk-toggleable__label-arrow:before {color: black;}#sk-container-id-2 div.sk-toggleable__content {max-height: 0;max-width: 0;overflow: hidden;text-align: left;background-color: #f0f8ff;}#sk-container-id-2 div.sk-toggleable__content pre {margin: 0.2em;color: black;border-radius: 0.25em;background-color: #f0f8ff;}#sk-container-id-2 input.sk-toggleable__control:checked~div.sk-toggleable__content {max-height: 200px;max-width: 100%;overflow: auto;}#sk-container-id-2 input.sk-toggleable__control:checked~label.sk-toggleable__label-arrow:before {content: \"▾\";}#sk-container-id-2 div.sk-estimator input.sk-toggleable__control:checked~label.sk-toggleable__label {background-color: #d4ebff;}#sk-container-id-2 div.sk-label input.sk-toggleable__control:checked~label.sk-toggleable__label {background-color: #d4ebff;}#sk-container-id-2 input.sk-hidden--visually {border: 0;clip: rect(1px 1px 1px 1px);clip: rect(1px, 1px, 1px, 1px);height: 1px;margin: -1px;overflow: hidden;padding: 0;position: absolute;width: 1px;}#sk-container-id-2 div.sk-estimator {font-family: monospace;background-color: #f0f8ff;border: 1px dotted black;border-radius: 0.25em;box-sizing: border-box;margin-bottom: 0.5em;}#sk-container-id-2 div.sk-estimator:hover {background-color: #d4ebff;}#sk-container-id-2 div.sk-parallel-item::after {content: \"\";width: 100%;border-bottom: 1px solid gray;flex-grow: 1;}#sk-container-id-2 div.sk-label:hover label.sk-toggleable__label {background-color: #d4ebff;}#sk-container-id-2 div.sk-serial::before {content: \"\";position: absolute;border-left: 1px solid gray;box-sizing: border-box;top: 0;bottom: 0;left: 50%;z-index: 0;}#sk-container-id-2 div.sk-serial {display: flex;flex-direction: column;align-items: center;background-color: white;padding-right: 0.2em;padding-left: 0.2em;position: relative;}#sk-container-id-2 div.sk-item {position: relative;z-index: 1;}#sk-container-id-2 div.sk-parallel {display: flex;align-items: stretch;justify-content: center;background-color: white;position: relative;}#sk-container-id-2 div.sk-item::before, #sk-container-id-2 div.sk-parallel-item::before {content: \"\";position: absolute;border-left: 1px solid gray;box-sizing: border-box;top: 0;bottom: 0;left: 50%;z-index: -1;}#sk-container-id-2 div.sk-parallel-item {display: flex;flex-direction: column;z-index: 1;position: relative;background-color: white;}#sk-container-id-2 div.sk-parallel-item:first-child::after {align-self: flex-end;width: 50%;}#sk-container-id-2 div.sk-parallel-item:last-child::after {align-self: flex-start;width: 50%;}#sk-container-id-2 div.sk-parallel-item:only-child::after {width: 0;}#sk-container-id-2 div.sk-dashed-wrapped {border: 1px dashed gray;margin: 0 0.4em 0.5em 0.4em;box-sizing: border-box;padding-bottom: 0.4em;background-color: white;}#sk-container-id-2 div.sk-label label {font-family: monospace;font-weight: bold;display: inline-block;line-height: 1.2em;}#sk-container-id-2 div.sk-label-container {text-align: center;}#sk-container-id-2 div.sk-container {/* jupyter's `normalize.less` sets `[hidden] { display: none; }` but bootstrap.min.css set `[hidden] { display: none !important; }` so we also need the `!important` here to be able to override the default hidden behavior on the sphinx rendered scikit-learn.org. See: https://github.com/scikit-learn/scikit-learn/issues/21755 */display: inline-block !important;position: relative;}#sk-container-id-2 div.sk-text-repr-fallback {display: none;}</style><div id=\"sk-container-id-2\" class=\"sk-top-container\"><div class=\"sk-text-repr-fallback\"><pre>LassoLars(alpha=0.1)</pre><b>In a Jupyter environment, please rerun this cell to show the HTML representation or trust the notebook. <br />On GitHub, the HTML representation is unable to render, please try loading this page with nbviewer.org.</b></div><div class=\"sk-container\" hidden><div class=\"sk-item\"><div class=\"sk-estimator sk-toggleable\"><input class=\"sk-toggleable__control sk-hidden--visually\" id=\"sk-estimator-id-2\" type=\"checkbox\" checked><label for=\"sk-estimator-id-2\" class=\"sk-toggleable__label sk-toggleable__label-arrow\">LassoLars</label><div class=\"sk-toggleable__content\"><pre>LassoLars(alpha=0.1)</pre></div></div></div></div></div>"
      ],
      "text/plain": [
       "LassoLars(alpha=0.1)"
      ]
     },
     "execution_count": 26,
     "metadata": {},
     "output_type": "execute_result"
    }
   ],
   "source": [
    "# Create an instance of the LassoLars regression model with alpha=0.5.\n",
    "ll = LassoLars(alpha=0.1)\n",
    "\n",
    "# Train the LassoLars model on the training data (X_train, y_train).\n",
    "# Evaluate its performance using the validation data (X_val, y_val).\n",
    "train_model(ll, X_train, y_train, X_val, y_val)"
   ]
  },
  {
   "cell_type": "markdown",
   "id": "23434b60-3e57-44e2-b82e-940661a60fc4",
   "metadata": {},
   "source": [
    "## PolynomialFeatures"
   ]
  },
  {
   "cell_type": "code",
   "execution_count": 27,
   "id": "7d6d6ea6-908c-4646-b1b0-757d5f4e8f0e",
   "metadata": {},
   "outputs": [],
   "source": [
    "# Create an instance of PolynomialFeatures to perform feature expansion.\n",
    "poly = PolynomialFeatures()\n",
    "\n",
    "# Transform the training features (X_train) into polynomial features (X_train_s).\n",
    "X_train_s = poly.fit_transform(X_train)\n",
    "\n",
    "# Transform the validation features (X_val) into polynomial features (X_val_s).\n",
    "X_val_s = poly.fit_transform(X_val)"
   ]
  },
  {
   "cell_type": "code",
   "execution_count": 28,
   "id": "ca463fc6-83e2-46e0-96a4-64c2df3d7a14",
   "metadata": {},
   "outputs": [
    {
     "data": {
      "text/plain": [
       "((35018, 351), (35018, 25))"
      ]
     },
     "execution_count": 28,
     "metadata": {},
     "output_type": "execute_result"
    }
   ],
   "source": [
    "# Comparing the dimensions (number of rows and columns) of X_train_s and X_train\n",
    "X_train_s.shape, X_train.shape"
   ]
  },
  {
   "cell_type": "markdown",
   "id": "9cf1ae16-4a92-4ff3-83fd-7ebeb51563d2",
   "metadata": {},
   "source": [
    "## LinearRegression with polynomial features"
   ]
  },
  {
   "cell_type": "code",
   "execution_count": 29,
   "id": "509e6a96-dfb6-4900-81b1-064072002b70",
   "metadata": {},
   "outputs": [
    {
     "name": "stdout",
     "output_type": "stream",
     "text": [
      "The train RMSE is 386586.36779793457.\n",
      "The validate RMSE is 383290.69481229817.\n"
     ]
    },
    {
     "data": {
      "text/html": [
       "<style>#sk-container-id-3 {color: black;}#sk-container-id-3 pre{padding: 0;}#sk-container-id-3 div.sk-toggleable {background-color: white;}#sk-container-id-3 label.sk-toggleable__label {cursor: pointer;display: block;width: 100%;margin-bottom: 0;padding: 0.3em;box-sizing: border-box;text-align: center;}#sk-container-id-3 label.sk-toggleable__label-arrow:before {content: \"▸\";float: left;margin-right: 0.25em;color: #696969;}#sk-container-id-3 label.sk-toggleable__label-arrow:hover:before {color: black;}#sk-container-id-3 div.sk-estimator:hover label.sk-toggleable__label-arrow:before {color: black;}#sk-container-id-3 div.sk-toggleable__content {max-height: 0;max-width: 0;overflow: hidden;text-align: left;background-color: #f0f8ff;}#sk-container-id-3 div.sk-toggleable__content pre {margin: 0.2em;color: black;border-radius: 0.25em;background-color: #f0f8ff;}#sk-container-id-3 input.sk-toggleable__control:checked~div.sk-toggleable__content {max-height: 200px;max-width: 100%;overflow: auto;}#sk-container-id-3 input.sk-toggleable__control:checked~label.sk-toggleable__label-arrow:before {content: \"▾\";}#sk-container-id-3 div.sk-estimator input.sk-toggleable__control:checked~label.sk-toggleable__label {background-color: #d4ebff;}#sk-container-id-3 div.sk-label input.sk-toggleable__control:checked~label.sk-toggleable__label {background-color: #d4ebff;}#sk-container-id-3 input.sk-hidden--visually {border: 0;clip: rect(1px 1px 1px 1px);clip: rect(1px, 1px, 1px, 1px);height: 1px;margin: -1px;overflow: hidden;padding: 0;position: absolute;width: 1px;}#sk-container-id-3 div.sk-estimator {font-family: monospace;background-color: #f0f8ff;border: 1px dotted black;border-radius: 0.25em;box-sizing: border-box;margin-bottom: 0.5em;}#sk-container-id-3 div.sk-estimator:hover {background-color: #d4ebff;}#sk-container-id-3 div.sk-parallel-item::after {content: \"\";width: 100%;border-bottom: 1px solid gray;flex-grow: 1;}#sk-container-id-3 div.sk-label:hover label.sk-toggleable__label {background-color: #d4ebff;}#sk-container-id-3 div.sk-serial::before {content: \"\";position: absolute;border-left: 1px solid gray;box-sizing: border-box;top: 0;bottom: 0;left: 50%;z-index: 0;}#sk-container-id-3 div.sk-serial {display: flex;flex-direction: column;align-items: center;background-color: white;padding-right: 0.2em;padding-left: 0.2em;position: relative;}#sk-container-id-3 div.sk-item {position: relative;z-index: 1;}#sk-container-id-3 div.sk-parallel {display: flex;align-items: stretch;justify-content: center;background-color: white;position: relative;}#sk-container-id-3 div.sk-item::before, #sk-container-id-3 div.sk-parallel-item::before {content: \"\";position: absolute;border-left: 1px solid gray;box-sizing: border-box;top: 0;bottom: 0;left: 50%;z-index: -1;}#sk-container-id-3 div.sk-parallel-item {display: flex;flex-direction: column;z-index: 1;position: relative;background-color: white;}#sk-container-id-3 div.sk-parallel-item:first-child::after {align-self: flex-end;width: 50%;}#sk-container-id-3 div.sk-parallel-item:last-child::after {align-self: flex-start;width: 50%;}#sk-container-id-3 div.sk-parallel-item:only-child::after {width: 0;}#sk-container-id-3 div.sk-dashed-wrapped {border: 1px dashed gray;margin: 0 0.4em 0.5em 0.4em;box-sizing: border-box;padding-bottom: 0.4em;background-color: white;}#sk-container-id-3 div.sk-label label {font-family: monospace;font-weight: bold;display: inline-block;line-height: 1.2em;}#sk-container-id-3 div.sk-label-container {text-align: center;}#sk-container-id-3 div.sk-container {/* jupyter's `normalize.less` sets `[hidden] { display: none; }` but bootstrap.min.css set `[hidden] { display: none !important; }` so we also need the `!important` here to be able to override the default hidden behavior on the sphinx rendered scikit-learn.org. See: https://github.com/scikit-learn/scikit-learn/issues/21755 */display: inline-block !important;position: relative;}#sk-container-id-3 div.sk-text-repr-fallback {display: none;}</style><div id=\"sk-container-id-3\" class=\"sk-top-container\"><div class=\"sk-text-repr-fallback\"><pre>LinearRegression()</pre><b>In a Jupyter environment, please rerun this cell to show the HTML representation or trust the notebook. <br />On GitHub, the HTML representation is unable to render, please try loading this page with nbviewer.org.</b></div><div class=\"sk-container\" hidden><div class=\"sk-item\"><div class=\"sk-estimator sk-toggleable\"><input class=\"sk-toggleable__control sk-hidden--visually\" id=\"sk-estimator-id-3\" type=\"checkbox\" checked><label for=\"sk-estimator-id-3\" class=\"sk-toggleable__label sk-toggleable__label-arrow\">LinearRegression</label><div class=\"sk-toggleable__content\"><pre>LinearRegression()</pre></div></div></div></div></div>"
      ],
      "text/plain": [
       "LinearRegression()"
      ]
     },
     "execution_count": 29,
     "metadata": {},
     "output_type": "execute_result"
    }
   ],
   "source": [
    "# Create an instance of the Linear Regression model.\n",
    "lm = LinearRegression()\n",
    "\n",
    "# Train the Linear Regression model on the training data with polynomial features (X_train_s, y_train).\n",
    "# Evaluate its performance using the validation data with polynomial features (X_val_s, y_val).\n",
    "train_model(lm, X_train_s, y_train, X_val_s, y_val)"
   ]
  },
  {
   "cell_type": "markdown",
   "id": "b6b5960f-fcfa-498f-9701-e8a15735fae8",
   "metadata": {},
   "source": [
    "## TweedieRegressor"
   ]
  },
  {
   "cell_type": "code",
   "execution_count": 30,
   "id": "f102eddf-697c-46f0-9cdf-da2d24d46653",
   "metadata": {},
   "outputs": [
    {
     "name": "stdout",
     "output_type": "stream",
     "text": [
      "The train RMSE is 473621.4000199033.\n",
      "The validate RMSE is 468397.9644899115.\n"
     ]
    },
    {
     "data": {
      "text/html": [
       "<style>#sk-container-id-4 {color: black;}#sk-container-id-4 pre{padding: 0;}#sk-container-id-4 div.sk-toggleable {background-color: white;}#sk-container-id-4 label.sk-toggleable__label {cursor: pointer;display: block;width: 100%;margin-bottom: 0;padding: 0.3em;box-sizing: border-box;text-align: center;}#sk-container-id-4 label.sk-toggleable__label-arrow:before {content: \"▸\";float: left;margin-right: 0.25em;color: #696969;}#sk-container-id-4 label.sk-toggleable__label-arrow:hover:before {color: black;}#sk-container-id-4 div.sk-estimator:hover label.sk-toggleable__label-arrow:before {color: black;}#sk-container-id-4 div.sk-toggleable__content {max-height: 0;max-width: 0;overflow: hidden;text-align: left;background-color: #f0f8ff;}#sk-container-id-4 div.sk-toggleable__content pre {margin: 0.2em;color: black;border-radius: 0.25em;background-color: #f0f8ff;}#sk-container-id-4 input.sk-toggleable__control:checked~div.sk-toggleable__content {max-height: 200px;max-width: 100%;overflow: auto;}#sk-container-id-4 input.sk-toggleable__control:checked~label.sk-toggleable__label-arrow:before {content: \"▾\";}#sk-container-id-4 div.sk-estimator input.sk-toggleable__control:checked~label.sk-toggleable__label {background-color: #d4ebff;}#sk-container-id-4 div.sk-label input.sk-toggleable__control:checked~label.sk-toggleable__label {background-color: #d4ebff;}#sk-container-id-4 input.sk-hidden--visually {border: 0;clip: rect(1px 1px 1px 1px);clip: rect(1px, 1px, 1px, 1px);height: 1px;margin: -1px;overflow: hidden;padding: 0;position: absolute;width: 1px;}#sk-container-id-4 div.sk-estimator {font-family: monospace;background-color: #f0f8ff;border: 1px dotted black;border-radius: 0.25em;box-sizing: border-box;margin-bottom: 0.5em;}#sk-container-id-4 div.sk-estimator:hover {background-color: #d4ebff;}#sk-container-id-4 div.sk-parallel-item::after {content: \"\";width: 100%;border-bottom: 1px solid gray;flex-grow: 1;}#sk-container-id-4 div.sk-label:hover label.sk-toggleable__label {background-color: #d4ebff;}#sk-container-id-4 div.sk-serial::before {content: \"\";position: absolute;border-left: 1px solid gray;box-sizing: border-box;top: 0;bottom: 0;left: 50%;z-index: 0;}#sk-container-id-4 div.sk-serial {display: flex;flex-direction: column;align-items: center;background-color: white;padding-right: 0.2em;padding-left: 0.2em;position: relative;}#sk-container-id-4 div.sk-item {position: relative;z-index: 1;}#sk-container-id-4 div.sk-parallel {display: flex;align-items: stretch;justify-content: center;background-color: white;position: relative;}#sk-container-id-4 div.sk-item::before, #sk-container-id-4 div.sk-parallel-item::before {content: \"\";position: absolute;border-left: 1px solid gray;box-sizing: border-box;top: 0;bottom: 0;left: 50%;z-index: -1;}#sk-container-id-4 div.sk-parallel-item {display: flex;flex-direction: column;z-index: 1;position: relative;background-color: white;}#sk-container-id-4 div.sk-parallel-item:first-child::after {align-self: flex-end;width: 50%;}#sk-container-id-4 div.sk-parallel-item:last-child::after {align-self: flex-start;width: 50%;}#sk-container-id-4 div.sk-parallel-item:only-child::after {width: 0;}#sk-container-id-4 div.sk-dashed-wrapped {border: 1px dashed gray;margin: 0 0.4em 0.5em 0.4em;box-sizing: border-box;padding-bottom: 0.4em;background-color: white;}#sk-container-id-4 div.sk-label label {font-family: monospace;font-weight: bold;display: inline-block;line-height: 1.2em;}#sk-container-id-4 div.sk-label-container {text-align: center;}#sk-container-id-4 div.sk-container {/* jupyter's `normalize.less` sets `[hidden] { display: none; }` but bootstrap.min.css set `[hidden] { display: none !important; }` so we also need the `!important` here to be able to override the default hidden behavior on the sphinx rendered scikit-learn.org. See: https://github.com/scikit-learn/scikit-learn/issues/21755 */display: inline-block !important;position: relative;}#sk-container-id-4 div.sk-text-repr-fallback {display: none;}</style><div id=\"sk-container-id-4\" class=\"sk-top-container\"><div class=\"sk-text-repr-fallback\"><pre>TweedieRegressor()</pre><b>In a Jupyter environment, please rerun this cell to show the HTML representation or trust the notebook. <br />On GitHub, the HTML representation is unable to render, please try loading this page with nbviewer.org.</b></div><div class=\"sk-container\" hidden><div class=\"sk-item\"><div class=\"sk-estimator sk-toggleable\"><input class=\"sk-toggleable__control sk-hidden--visually\" id=\"sk-estimator-id-4\" type=\"checkbox\" checked><label for=\"sk-estimator-id-4\" class=\"sk-toggleable__label sk-toggleable__label-arrow\">TweedieRegressor</label><div class=\"sk-toggleable__content\"><pre>TweedieRegressor()</pre></div></div></div></div></div>"
      ],
      "text/plain": [
       "TweedieRegressor()"
      ]
     },
     "execution_count": 30,
     "metadata": {},
     "output_type": "execute_result"
    }
   ],
   "source": [
    "# Create an instance of the Tweedie Regressor model.\n",
    "tweedie = TweedieRegressor()\n",
    "\n",
    "# Train the Tweedie Regressor model on the training data with polynomial features (X_train_s, y_train).\n",
    "# Evaluate its performance using the validation data with polynomial features (X_val_s, y_val).\n",
    "train_model(tweedie, X_train_s, y_train, X_val_s, y_val)"
   ]
  },
  {
   "cell_type": "code",
   "execution_count": 31,
   "id": "0d6407f9-9b5c-4d24-b35b-3a3eb45bb812",
   "metadata": {
    "scrolled": true
   },
   "outputs": [
    {
     "name": "stdout",
     "output_type": "stream",
     "text": [
      "The train RMSE is 392120.79512608214.\n",
      "The validate RMSE is 383961.4681469777.\n"
     ]
    },
    {
     "name": "stderr",
     "output_type": "stream",
     "text": [
      "/opt/homebrew/anaconda3/lib/python3.10/site-packages/sklearn/linear_model/_glm/glm.py:282: ConvergenceWarning: lbfgs failed to converge (status=1):\n",
      "STOP: TOTAL NO. of ITERATIONS REACHED LIMIT.\n",
      "\n",
      "Increase the number of iterations (max_iter) or scale the data as shown in:\n",
      "    https://scikit-learn.org/stable/modules/preprocessing.html\n",
      "  self.n_iter_ = _check_optimize_result(\"lbfgs\", opt_res)\n"
     ]
    },
    {
     "data": {
      "text/html": [
       "<style>#sk-container-id-5 {color: black;}#sk-container-id-5 pre{padding: 0;}#sk-container-id-5 div.sk-toggleable {background-color: white;}#sk-container-id-5 label.sk-toggleable__label {cursor: pointer;display: block;width: 100%;margin-bottom: 0;padding: 0.3em;box-sizing: border-box;text-align: center;}#sk-container-id-5 label.sk-toggleable__label-arrow:before {content: \"▸\";float: left;margin-right: 0.25em;color: #696969;}#sk-container-id-5 label.sk-toggleable__label-arrow:hover:before {color: black;}#sk-container-id-5 div.sk-estimator:hover label.sk-toggleable__label-arrow:before {color: black;}#sk-container-id-5 div.sk-toggleable__content {max-height: 0;max-width: 0;overflow: hidden;text-align: left;background-color: #f0f8ff;}#sk-container-id-5 div.sk-toggleable__content pre {margin: 0.2em;color: black;border-radius: 0.25em;background-color: #f0f8ff;}#sk-container-id-5 input.sk-toggleable__control:checked~div.sk-toggleable__content {max-height: 200px;max-width: 100%;overflow: auto;}#sk-container-id-5 input.sk-toggleable__control:checked~label.sk-toggleable__label-arrow:before {content: \"▾\";}#sk-container-id-5 div.sk-estimator input.sk-toggleable__control:checked~label.sk-toggleable__label {background-color: #d4ebff;}#sk-container-id-5 div.sk-label input.sk-toggleable__control:checked~label.sk-toggleable__label {background-color: #d4ebff;}#sk-container-id-5 input.sk-hidden--visually {border: 0;clip: rect(1px 1px 1px 1px);clip: rect(1px, 1px, 1px, 1px);height: 1px;margin: -1px;overflow: hidden;padding: 0;position: absolute;width: 1px;}#sk-container-id-5 div.sk-estimator {font-family: monospace;background-color: #f0f8ff;border: 1px dotted black;border-radius: 0.25em;box-sizing: border-box;margin-bottom: 0.5em;}#sk-container-id-5 div.sk-estimator:hover {background-color: #d4ebff;}#sk-container-id-5 div.sk-parallel-item::after {content: \"\";width: 100%;border-bottom: 1px solid gray;flex-grow: 1;}#sk-container-id-5 div.sk-label:hover label.sk-toggleable__label {background-color: #d4ebff;}#sk-container-id-5 div.sk-serial::before {content: \"\";position: absolute;border-left: 1px solid gray;box-sizing: border-box;top: 0;bottom: 0;left: 50%;z-index: 0;}#sk-container-id-5 div.sk-serial {display: flex;flex-direction: column;align-items: center;background-color: white;padding-right: 0.2em;padding-left: 0.2em;position: relative;}#sk-container-id-5 div.sk-item {position: relative;z-index: 1;}#sk-container-id-5 div.sk-parallel {display: flex;align-items: stretch;justify-content: center;background-color: white;position: relative;}#sk-container-id-5 div.sk-item::before, #sk-container-id-5 div.sk-parallel-item::before {content: \"\";position: absolute;border-left: 1px solid gray;box-sizing: border-box;top: 0;bottom: 0;left: 50%;z-index: -1;}#sk-container-id-5 div.sk-parallel-item {display: flex;flex-direction: column;z-index: 1;position: relative;background-color: white;}#sk-container-id-5 div.sk-parallel-item:first-child::after {align-self: flex-end;width: 50%;}#sk-container-id-5 div.sk-parallel-item:last-child::after {align-self: flex-start;width: 50%;}#sk-container-id-5 div.sk-parallel-item:only-child::after {width: 0;}#sk-container-id-5 div.sk-dashed-wrapped {border: 1px dashed gray;margin: 0 0.4em 0.5em 0.4em;box-sizing: border-box;padding-bottom: 0.4em;background-color: white;}#sk-container-id-5 div.sk-label label {font-family: monospace;font-weight: bold;display: inline-block;line-height: 1.2em;}#sk-container-id-5 div.sk-label-container {text-align: center;}#sk-container-id-5 div.sk-container {/* jupyter's `normalize.less` sets `[hidden] { display: none; }` but bootstrap.min.css set `[hidden] { display: none !important; }` so we also need the `!important` here to be able to override the default hidden behavior on the sphinx rendered scikit-learn.org. See: https://github.com/scikit-learn/scikit-learn/issues/21755 */display: inline-block !important;position: relative;}#sk-container-id-5 div.sk-text-repr-fallback {display: none;}</style><div id=\"sk-container-id-5\" class=\"sk-top-container\"><div class=\"sk-text-repr-fallback\"><pre>TweedieRegressor(alpha=0.01, max_iter=170, power=1)</pre><b>In a Jupyter environment, please rerun this cell to show the HTML representation or trust the notebook. <br />On GitHub, the HTML representation is unable to render, please try loading this page with nbviewer.org.</b></div><div class=\"sk-container\" hidden><div class=\"sk-item\"><div class=\"sk-estimator sk-toggleable\"><input class=\"sk-toggleable__control sk-hidden--visually\" id=\"sk-estimator-id-5\" type=\"checkbox\" checked><label for=\"sk-estimator-id-5\" class=\"sk-toggleable__label sk-toggleable__label-arrow\">TweedieRegressor</label><div class=\"sk-toggleable__content\"><pre>TweedieRegressor(alpha=0.01, max_iter=170, power=1)</pre></div></div></div></div></div>"
      ],
      "text/plain": [
       "TweedieRegressor(alpha=0.01, max_iter=170, power=1)"
      ]
     },
     "execution_count": 31,
     "metadata": {},
     "output_type": "execute_result"
    }
   ],
   "source": [
    "# Create an instance of the Tweedie Regressor model.\n",
    "tweedie = TweedieRegressor(power=1, alpha=0.01, link='auto', max_iter=170)\n",
    "\n",
    "# Train the Tweedie Regressor model on the training data with polynomial features (X_train_s, y_train).\n",
    "# Evaluate its performance using the validation data with polynomial features (X_val_s, y_val).\n",
    "train_model(tweedie, X_train_s, y_train, X_val_s, y_val)"
   ]
  },
  {
   "cell_type": "markdown",
   "id": "c890a062-d563-4ba0-8a19-54c9fc98fb2b",
   "metadata": {},
   "source": [
    "## RandomForestRegressor"
   ]
  },
  {
   "cell_type": "code",
   "execution_count": 32,
   "id": "124cb163-012a-4cb4-85a0-4a0f5edf2af7",
   "metadata": {},
   "outputs": [
    {
     "name": "stdout",
     "output_type": "stream",
     "text": [
      "The train RMSE is 139224.02650986606.\n",
      "The validate RMSE is 357930.1766435903.\n"
     ]
    },
    {
     "data": {
      "text/html": [
       "<style>#sk-container-id-6 {color: black;}#sk-container-id-6 pre{padding: 0;}#sk-container-id-6 div.sk-toggleable {background-color: white;}#sk-container-id-6 label.sk-toggleable__label {cursor: pointer;display: block;width: 100%;margin-bottom: 0;padding: 0.3em;box-sizing: border-box;text-align: center;}#sk-container-id-6 label.sk-toggleable__label-arrow:before {content: \"▸\";float: left;margin-right: 0.25em;color: #696969;}#sk-container-id-6 label.sk-toggleable__label-arrow:hover:before {color: black;}#sk-container-id-6 div.sk-estimator:hover label.sk-toggleable__label-arrow:before {color: black;}#sk-container-id-6 div.sk-toggleable__content {max-height: 0;max-width: 0;overflow: hidden;text-align: left;background-color: #f0f8ff;}#sk-container-id-6 div.sk-toggleable__content pre {margin: 0.2em;color: black;border-radius: 0.25em;background-color: #f0f8ff;}#sk-container-id-6 input.sk-toggleable__control:checked~div.sk-toggleable__content {max-height: 200px;max-width: 100%;overflow: auto;}#sk-container-id-6 input.sk-toggleable__control:checked~label.sk-toggleable__label-arrow:before {content: \"▾\";}#sk-container-id-6 div.sk-estimator input.sk-toggleable__control:checked~label.sk-toggleable__label {background-color: #d4ebff;}#sk-container-id-6 div.sk-label input.sk-toggleable__control:checked~label.sk-toggleable__label {background-color: #d4ebff;}#sk-container-id-6 input.sk-hidden--visually {border: 0;clip: rect(1px 1px 1px 1px);clip: rect(1px, 1px, 1px, 1px);height: 1px;margin: -1px;overflow: hidden;padding: 0;position: absolute;width: 1px;}#sk-container-id-6 div.sk-estimator {font-family: monospace;background-color: #f0f8ff;border: 1px dotted black;border-radius: 0.25em;box-sizing: border-box;margin-bottom: 0.5em;}#sk-container-id-6 div.sk-estimator:hover {background-color: #d4ebff;}#sk-container-id-6 div.sk-parallel-item::after {content: \"\";width: 100%;border-bottom: 1px solid gray;flex-grow: 1;}#sk-container-id-6 div.sk-label:hover label.sk-toggleable__label {background-color: #d4ebff;}#sk-container-id-6 div.sk-serial::before {content: \"\";position: absolute;border-left: 1px solid gray;box-sizing: border-box;top: 0;bottom: 0;left: 50%;z-index: 0;}#sk-container-id-6 div.sk-serial {display: flex;flex-direction: column;align-items: center;background-color: white;padding-right: 0.2em;padding-left: 0.2em;position: relative;}#sk-container-id-6 div.sk-item {position: relative;z-index: 1;}#sk-container-id-6 div.sk-parallel {display: flex;align-items: stretch;justify-content: center;background-color: white;position: relative;}#sk-container-id-6 div.sk-item::before, #sk-container-id-6 div.sk-parallel-item::before {content: \"\";position: absolute;border-left: 1px solid gray;box-sizing: border-box;top: 0;bottom: 0;left: 50%;z-index: -1;}#sk-container-id-6 div.sk-parallel-item {display: flex;flex-direction: column;z-index: 1;position: relative;background-color: white;}#sk-container-id-6 div.sk-parallel-item:first-child::after {align-self: flex-end;width: 50%;}#sk-container-id-6 div.sk-parallel-item:last-child::after {align-self: flex-start;width: 50%;}#sk-container-id-6 div.sk-parallel-item:only-child::after {width: 0;}#sk-container-id-6 div.sk-dashed-wrapped {border: 1px dashed gray;margin: 0 0.4em 0.5em 0.4em;box-sizing: border-box;padding-bottom: 0.4em;background-color: white;}#sk-container-id-6 div.sk-label label {font-family: monospace;font-weight: bold;display: inline-block;line-height: 1.2em;}#sk-container-id-6 div.sk-label-container {text-align: center;}#sk-container-id-6 div.sk-container {/* jupyter's `normalize.less` sets `[hidden] { display: none; }` but bootstrap.min.css set `[hidden] { display: none !important; }` so we also need the `!important` here to be able to override the default hidden behavior on the sphinx rendered scikit-learn.org. See: https://github.com/scikit-learn/scikit-learn/issues/21755 */display: inline-block !important;position: relative;}#sk-container-id-6 div.sk-text-repr-fallback {display: none;}</style><div id=\"sk-container-id-6\" class=\"sk-top-container\"><div class=\"sk-text-repr-fallback\"><pre>RandomForestRegressor()</pre><b>In a Jupyter environment, please rerun this cell to show the HTML representation or trust the notebook. <br />On GitHub, the HTML representation is unable to render, please try loading this page with nbviewer.org.</b></div><div class=\"sk-container\" hidden><div class=\"sk-item\"><div class=\"sk-estimator sk-toggleable\"><input class=\"sk-toggleable__control sk-hidden--visually\" id=\"sk-estimator-id-6\" type=\"checkbox\" checked><label for=\"sk-estimator-id-6\" class=\"sk-toggleable__label sk-toggleable__label-arrow\">RandomForestRegressor</label><div class=\"sk-toggleable__content\"><pre>RandomForestRegressor()</pre></div></div></div></div></div>"
      ],
      "text/plain": [
       "RandomForestRegressor()"
      ]
     },
     "execution_count": 32,
     "metadata": {},
     "output_type": "execute_result"
    }
   ],
   "source": [
    "# Create an instance of the RandomForestRegressor model.\n",
    "rf = RandomForestRegressor()\n",
    "\n",
    "# Train the RandomForestRegressor model on the training data (X_train_s, y_train).\n",
    "# Evaluate its performance using the validation data (X_val_s, y_val).\n",
    "train_model(rf, X_train, y_train, X_val, y_val)"
   ]
  },
  {
   "cell_type": "code",
   "execution_count": 33,
   "id": "8b4d5c11-9f68-4f10-8da4-623ee1cadc7e",
   "metadata": {},
   "outputs": [],
   "source": [
    "feature_importances = rf.feature_importances_"
   ]
  },
  {
   "cell_type": "code",
   "execution_count": 34,
   "id": "1deb1732-ce08-4005-a6c9-e920de8a4526",
   "metadata": {},
   "outputs": [
    {
     "data": {
      "text/plain": [
       "25"
      ]
     },
     "execution_count": 34,
     "metadata": {},
     "output_type": "execute_result"
    }
   ],
   "source": [
    "len(feature_importances)"
   ]
  },
  {
   "cell_type": "code",
   "execution_count": 35,
   "id": "6358beb5-50f6-497c-93cf-9d8d2e27c815",
   "metadata": {},
   "outputs": [
    {
     "data": {
      "text/plain": [
       "Index(['finishedsquarefeet12', 'squarefeet', 'latitude', 'regionidzip',\n",
       "       'longitude', 'lotsizesquarefeet', 'logerror', 'year_built', 'id', 'id',\n",
       "       'rawcensustractandblock', 'regionidcity', 'parcelid', 'parcelid',\n",
       "       'bathrooms', 'bedrooms', 'fips', 'bedrooms_bin', 'bathrooms_bin',\n",
       "       'squarefeet_bin', 'decades', 'county_Los Angeles County',\n",
       "       'county_Orange County', 'county_Ventura County', 'state_CA'],\n",
       "      dtype='object')"
      ]
     },
     "execution_count": 35,
     "metadata": {},
     "output_type": "execute_result"
    }
   ],
   "source": [
    "X_train.columns"
   ]
  },
  {
   "cell_type": "code",
   "execution_count": 36,
   "id": "b1aead7f-4dd9-4494-9163-0e60f438592f",
   "metadata": {},
   "outputs": [],
   "source": [
    "# Create a DataFrame to display feature names and their importances\n",
    "importances_df = pd.DataFrame({'Feature': X_train.columns, 'Importance': feature_importances})"
   ]
  },
  {
   "cell_type": "code",
   "execution_count": 37,
   "id": "bf84988c-5d23-4ea6-8be4-ec48366b2bb7",
   "metadata": {},
   "outputs": [],
   "source": [
    "# Sort the DataFrame by importance in descending order\n",
    "importances_df = importances_df.sort_values(by='Importance', ascending=False)"
   ]
  },
  {
   "cell_type": "code",
   "execution_count": 38,
   "id": "f6020e6f-b894-40c6-867f-64f7543ec0e4",
   "metadata": {},
   "outputs": [
    {
     "name": "stdout",
     "output_type": "stream",
     "text": [
      "                      Feature  Importance\n",
      "1                  squarefeet    0.170137\n",
      "0        finishedsquarefeet12    0.158313\n",
      "3                 regionidzip    0.090986\n",
      "4                   longitude    0.088112\n",
      "2                    latitude    0.087261\n",
      "5           lotsizesquarefeet    0.067891\n",
      "6                    logerror    0.055110\n",
      "7                  year_built    0.046926\n",
      "8                          id    0.040927\n",
      "9                          id    0.038341\n",
      "11               regionidcity    0.029965\n",
      "10     rawcensustractandblock    0.028468\n",
      "13                   parcelid    0.024719\n",
      "12                   parcelid    0.024166\n",
      "14                  bathrooms    0.015864\n",
      "20                    decades    0.011426\n",
      "15                   bedrooms    0.008543\n",
      "17               bedrooms_bin    0.005988\n",
      "18              bathrooms_bin    0.003731\n",
      "19             squarefeet_bin    0.002035\n",
      "21  county_Los Angeles County    0.000407\n",
      "23      county_Ventura County    0.000402\n",
      "16                       fips    0.000170\n",
      "22       county_Orange County    0.000112\n",
      "24                   state_CA    0.000000\n"
     ]
    }
   ],
   "source": [
    "print(importances_df)"
   ]
  },
  {
   "cell_type": "code",
   "execution_count": 39,
   "id": "2b5d8e40-3c17-4840-9b95-52884d9f90c9",
   "metadata": {
    "jp-MarkdownHeadingCollapsed": true,
    "scrolled": true
   },
   "outputs": [
    {
     "name": "stdout",
     "output_type": "stream",
     "text": [
      "The train RMSE is 267594.7713337082.\n",
      "The validate RMSE is 364302.7418023686.\n"
     ]
    },
    {
     "data": {
      "text/html": [
       "<style>#sk-container-id-7 {color: black;}#sk-container-id-7 pre{padding: 0;}#sk-container-id-7 div.sk-toggleable {background-color: white;}#sk-container-id-7 label.sk-toggleable__label {cursor: pointer;display: block;width: 100%;margin-bottom: 0;padding: 0.3em;box-sizing: border-box;text-align: center;}#sk-container-id-7 label.sk-toggleable__label-arrow:before {content: \"▸\";float: left;margin-right: 0.25em;color: #696969;}#sk-container-id-7 label.sk-toggleable__label-arrow:hover:before {color: black;}#sk-container-id-7 div.sk-estimator:hover label.sk-toggleable__label-arrow:before {color: black;}#sk-container-id-7 div.sk-toggleable__content {max-height: 0;max-width: 0;overflow: hidden;text-align: left;background-color: #f0f8ff;}#sk-container-id-7 div.sk-toggleable__content pre {margin: 0.2em;color: black;border-radius: 0.25em;background-color: #f0f8ff;}#sk-container-id-7 input.sk-toggleable__control:checked~div.sk-toggleable__content {max-height: 200px;max-width: 100%;overflow: auto;}#sk-container-id-7 input.sk-toggleable__control:checked~label.sk-toggleable__label-arrow:before {content: \"▾\";}#sk-container-id-7 div.sk-estimator input.sk-toggleable__control:checked~label.sk-toggleable__label {background-color: #d4ebff;}#sk-container-id-7 div.sk-label input.sk-toggleable__control:checked~label.sk-toggleable__label {background-color: #d4ebff;}#sk-container-id-7 input.sk-hidden--visually {border: 0;clip: rect(1px 1px 1px 1px);clip: rect(1px, 1px, 1px, 1px);height: 1px;margin: -1px;overflow: hidden;padding: 0;position: absolute;width: 1px;}#sk-container-id-7 div.sk-estimator {font-family: monospace;background-color: #f0f8ff;border: 1px dotted black;border-radius: 0.25em;box-sizing: border-box;margin-bottom: 0.5em;}#sk-container-id-7 div.sk-estimator:hover {background-color: #d4ebff;}#sk-container-id-7 div.sk-parallel-item::after {content: \"\";width: 100%;border-bottom: 1px solid gray;flex-grow: 1;}#sk-container-id-7 div.sk-label:hover label.sk-toggleable__label {background-color: #d4ebff;}#sk-container-id-7 div.sk-serial::before {content: \"\";position: absolute;border-left: 1px solid gray;box-sizing: border-box;top: 0;bottom: 0;left: 50%;z-index: 0;}#sk-container-id-7 div.sk-serial {display: flex;flex-direction: column;align-items: center;background-color: white;padding-right: 0.2em;padding-left: 0.2em;position: relative;}#sk-container-id-7 div.sk-item {position: relative;z-index: 1;}#sk-container-id-7 div.sk-parallel {display: flex;align-items: stretch;justify-content: center;background-color: white;position: relative;}#sk-container-id-7 div.sk-item::before, #sk-container-id-7 div.sk-parallel-item::before {content: \"\";position: absolute;border-left: 1px solid gray;box-sizing: border-box;top: 0;bottom: 0;left: 50%;z-index: -1;}#sk-container-id-7 div.sk-parallel-item {display: flex;flex-direction: column;z-index: 1;position: relative;background-color: white;}#sk-container-id-7 div.sk-parallel-item:first-child::after {align-self: flex-end;width: 50%;}#sk-container-id-7 div.sk-parallel-item:last-child::after {align-self: flex-start;width: 50%;}#sk-container-id-7 div.sk-parallel-item:only-child::after {width: 0;}#sk-container-id-7 div.sk-dashed-wrapped {border: 1px dashed gray;margin: 0 0.4em 0.5em 0.4em;box-sizing: border-box;padding-bottom: 0.4em;background-color: white;}#sk-container-id-7 div.sk-label label {font-family: monospace;font-weight: bold;display: inline-block;line-height: 1.2em;}#sk-container-id-7 div.sk-label-container {text-align: center;}#sk-container-id-7 div.sk-container {/* jupyter's `normalize.less` sets `[hidden] { display: none; }` but bootstrap.min.css set `[hidden] { display: none !important; }` so we also need the `!important` here to be able to override the default hidden behavior on the sphinx rendered scikit-learn.org. See: https://github.com/scikit-learn/scikit-learn/issues/21755 */display: inline-block !important;position: relative;}#sk-container-id-7 div.sk-text-repr-fallback {display: none;}</style><div id=\"sk-container-id-7\" class=\"sk-top-container\"><div class=\"sk-text-repr-fallback\"><pre>RandomForestRegressor(max_depth=10, min_samples_split=4)</pre><b>In a Jupyter environment, please rerun this cell to show the HTML representation or trust the notebook. <br />On GitHub, the HTML representation is unable to render, please try loading this page with nbviewer.org.</b></div><div class=\"sk-container\" hidden><div class=\"sk-item\"><div class=\"sk-estimator sk-toggleable\"><input class=\"sk-toggleable__control sk-hidden--visually\" id=\"sk-estimator-id-7\" type=\"checkbox\" checked><label for=\"sk-estimator-id-7\" class=\"sk-toggleable__label sk-toggleable__label-arrow\">RandomForestRegressor</label><div class=\"sk-toggleable__content\"><pre>RandomForestRegressor(max_depth=10, min_samples_split=4)</pre></div></div></div></div></div>"
      ],
      "text/plain": [
       "RandomForestRegressor(max_depth=10, min_samples_split=4)"
      ]
     },
     "execution_count": 39,
     "metadata": {},
     "output_type": "execute_result"
    }
   ],
   "source": [
    "# Create an instance of the RandomForestRegressor model.\n",
    "rf = RandomForestRegressor(n_estimators=100, max_depth=10, min_samples_split=4)\n",
    "\n",
    "# Train the RandomForestRegressor model on the training data (X_train_s, y_train).\n",
    "# Evaluate its performance using the validation data (X_val_s, y_val).\n",
    "train_model(rf, X_train_s, y_train, X_val_s, y_val)"
   ]
  },
  {
   "cell_type": "markdown",
   "id": "dc43a6d9-a3bc-4395-bb0a-2d0b0d83e766",
   "metadata": {},
   "source": [
    "## XGBRegressor"
   ]
  },
  {
   "cell_type": "code",
   "execution_count": 43,
   "id": "81f64afc-f0c5-44be-a5e1-7d84bed36607",
   "metadata": {},
   "outputs": [],
   "source": [
    "param_grid = {\n",
    "    'n_estimators': [100, 200, 300],\n",
    "    'max_depth': [None, 10, 20, 30],\n",
    "    'min_samples_split': [2, 5, 10],\n",
    "    'min_samples_leaf': [1, 2, 4],\n",
    "    'max_features': ['auto', 'sqrt', 'log2']\n",
    "}"
   ]
  },
  {
   "cell_type": "code",
   "execution_count": 44,
   "id": "2e3e5120-756e-4e78-aac9-0257dd4b5a99",
   "metadata": {},
   "outputs": [],
   "source": [
    "grid_search = GridSearchCV(estimator=rf, param_grid=param_grid, scoring='neg_mean_squared_error', cv=5, n_jobs=-1)"
   ]
  },
  {
   "cell_type": "code",
   "execution_count": 45,
   "id": "81155677-2b64-4f8e-80e1-c674c1e5709d",
   "metadata": {},
   "outputs": [
    {
     "data": {
      "text/html": [
       "<style>#sk-container-id-8 {color: black;}#sk-container-id-8 pre{padding: 0;}#sk-container-id-8 div.sk-toggleable {background-color: white;}#sk-container-id-8 label.sk-toggleable__label {cursor: pointer;display: block;width: 100%;margin-bottom: 0;padding: 0.3em;box-sizing: border-box;text-align: center;}#sk-container-id-8 label.sk-toggleable__label-arrow:before {content: \"▸\";float: left;margin-right: 0.25em;color: #696969;}#sk-container-id-8 label.sk-toggleable__label-arrow:hover:before {color: black;}#sk-container-id-8 div.sk-estimator:hover label.sk-toggleable__label-arrow:before {color: black;}#sk-container-id-8 div.sk-toggleable__content {max-height: 0;max-width: 0;overflow: hidden;text-align: left;background-color: #f0f8ff;}#sk-container-id-8 div.sk-toggleable__content pre {margin: 0.2em;color: black;border-radius: 0.25em;background-color: #f0f8ff;}#sk-container-id-8 input.sk-toggleable__control:checked~div.sk-toggleable__content {max-height: 200px;max-width: 100%;overflow: auto;}#sk-container-id-8 input.sk-toggleable__control:checked~label.sk-toggleable__label-arrow:before {content: \"▾\";}#sk-container-id-8 div.sk-estimator input.sk-toggleable__control:checked~label.sk-toggleable__label {background-color: #d4ebff;}#sk-container-id-8 div.sk-label input.sk-toggleable__control:checked~label.sk-toggleable__label {background-color: #d4ebff;}#sk-container-id-8 input.sk-hidden--visually {border: 0;clip: rect(1px 1px 1px 1px);clip: rect(1px, 1px, 1px, 1px);height: 1px;margin: -1px;overflow: hidden;padding: 0;position: absolute;width: 1px;}#sk-container-id-8 div.sk-estimator {font-family: monospace;background-color: #f0f8ff;border: 1px dotted black;border-radius: 0.25em;box-sizing: border-box;margin-bottom: 0.5em;}#sk-container-id-8 div.sk-estimator:hover {background-color: #d4ebff;}#sk-container-id-8 div.sk-parallel-item::after {content: \"\";width: 100%;border-bottom: 1px solid gray;flex-grow: 1;}#sk-container-id-8 div.sk-label:hover label.sk-toggleable__label {background-color: #d4ebff;}#sk-container-id-8 div.sk-serial::before {content: \"\";position: absolute;border-left: 1px solid gray;box-sizing: border-box;top: 0;bottom: 0;left: 50%;z-index: 0;}#sk-container-id-8 div.sk-serial {display: flex;flex-direction: column;align-items: center;background-color: white;padding-right: 0.2em;padding-left: 0.2em;position: relative;}#sk-container-id-8 div.sk-item {position: relative;z-index: 1;}#sk-container-id-8 div.sk-parallel {display: flex;align-items: stretch;justify-content: center;background-color: white;position: relative;}#sk-container-id-8 div.sk-item::before, #sk-container-id-8 div.sk-parallel-item::before {content: \"\";position: absolute;border-left: 1px solid gray;box-sizing: border-box;top: 0;bottom: 0;left: 50%;z-index: -1;}#sk-container-id-8 div.sk-parallel-item {display: flex;flex-direction: column;z-index: 1;position: relative;background-color: white;}#sk-container-id-8 div.sk-parallel-item:first-child::after {align-self: flex-end;width: 50%;}#sk-container-id-8 div.sk-parallel-item:last-child::after {align-self: flex-start;width: 50%;}#sk-container-id-8 div.sk-parallel-item:only-child::after {width: 0;}#sk-container-id-8 div.sk-dashed-wrapped {border: 1px dashed gray;margin: 0 0.4em 0.5em 0.4em;box-sizing: border-box;padding-bottom: 0.4em;background-color: white;}#sk-container-id-8 div.sk-label label {font-family: monospace;font-weight: bold;display: inline-block;line-height: 1.2em;}#sk-container-id-8 div.sk-label-container {text-align: center;}#sk-container-id-8 div.sk-container {/* jupyter's `normalize.less` sets `[hidden] { display: none; }` but bootstrap.min.css set `[hidden] { display: none !important; }` so we also need the `!important` here to be able to override the default hidden behavior on the sphinx rendered scikit-learn.org. See: https://github.com/scikit-learn/scikit-learn/issues/21755 */display: inline-block !important;position: relative;}#sk-container-id-8 div.sk-text-repr-fallback {display: none;}</style><div id=\"sk-container-id-8\" class=\"sk-top-container\"><div class=\"sk-text-repr-fallback\"><pre>GridSearchCV(cv=5,\n",
       "             estimator=RandomForestRegressor(max_depth=10, min_samples_split=4),\n",
       "             n_jobs=-1,\n",
       "             param_grid={&#x27;max_depth&#x27;: [None, 10, 20, 30],\n",
       "                         &#x27;max_features&#x27;: [&#x27;auto&#x27;, &#x27;sqrt&#x27;, &#x27;log2&#x27;],\n",
       "                         &#x27;min_samples_leaf&#x27;: [1, 2, 4],\n",
       "                         &#x27;min_samples_split&#x27;: [2, 5, 10],\n",
       "                         &#x27;n_estimators&#x27;: [100, 200, 300]},\n",
       "             scoring=&#x27;neg_mean_squared_error&#x27;)</pre><b>In a Jupyter environment, please rerun this cell to show the HTML representation or trust the notebook. <br />On GitHub, the HTML representation is unable to render, please try loading this page with nbviewer.org.</b></div><div class=\"sk-container\" hidden><div class=\"sk-item sk-dashed-wrapped\"><div class=\"sk-label-container\"><div class=\"sk-label sk-toggleable\"><input class=\"sk-toggleable__control sk-hidden--visually\" id=\"sk-estimator-id-8\" type=\"checkbox\" ><label for=\"sk-estimator-id-8\" class=\"sk-toggleable__label sk-toggleable__label-arrow\">GridSearchCV</label><div class=\"sk-toggleable__content\"><pre>GridSearchCV(cv=5,\n",
       "             estimator=RandomForestRegressor(max_depth=10, min_samples_split=4),\n",
       "             n_jobs=-1,\n",
       "             param_grid={&#x27;max_depth&#x27;: [None, 10, 20, 30],\n",
       "                         &#x27;max_features&#x27;: [&#x27;auto&#x27;, &#x27;sqrt&#x27;, &#x27;log2&#x27;],\n",
       "                         &#x27;min_samples_leaf&#x27;: [1, 2, 4],\n",
       "                         &#x27;min_samples_split&#x27;: [2, 5, 10],\n",
       "                         &#x27;n_estimators&#x27;: [100, 200, 300]},\n",
       "             scoring=&#x27;neg_mean_squared_error&#x27;)</pre></div></div></div><div class=\"sk-parallel\"><div class=\"sk-parallel-item\"><div class=\"sk-item\"><div class=\"sk-label-container\"><div class=\"sk-label sk-toggleable\"><input class=\"sk-toggleable__control sk-hidden--visually\" id=\"sk-estimator-id-9\" type=\"checkbox\" ><label for=\"sk-estimator-id-9\" class=\"sk-toggleable__label sk-toggleable__label-arrow\">estimator: RandomForestRegressor</label><div class=\"sk-toggleable__content\"><pre>RandomForestRegressor(max_depth=10, min_samples_split=4)</pre></div></div></div><div class=\"sk-serial\"><div class=\"sk-item\"><div class=\"sk-estimator sk-toggleable\"><input class=\"sk-toggleable__control sk-hidden--visually\" id=\"sk-estimator-id-10\" type=\"checkbox\" ><label for=\"sk-estimator-id-10\" class=\"sk-toggleable__label sk-toggleable__label-arrow\">RandomForestRegressor</label><div class=\"sk-toggleable__content\"><pre>RandomForestRegressor(max_depth=10, min_samples_split=4)</pre></div></div></div></div></div></div></div></div></div></div>"
      ],
      "text/plain": [
       "GridSearchCV(cv=5,\n",
       "             estimator=RandomForestRegressor(max_depth=10, min_samples_split=4),\n",
       "             n_jobs=-1,\n",
       "             param_grid={'max_depth': [None, 10, 20, 30],\n",
       "                         'max_features': ['auto', 'sqrt', 'log2'],\n",
       "                         'min_samples_leaf': [1, 2, 4],\n",
       "                         'min_samples_split': [2, 5, 10],\n",
       "                         'n_estimators': [100, 200, 300]},\n",
       "             scoring='neg_mean_squared_error')"
      ]
     },
     "execution_count": 45,
     "metadata": {},
     "output_type": "execute_result"
    }
   ],
   "source": [
    "grid_search"
   ]
  },
  {
   "cell_type": "code",
   "execution_count": 46,
   "id": "3574aa4f-576d-463e-ab13-2da3d66172cd",
   "metadata": {},
   "outputs": [
    {
     "name": "stdout",
     "output_type": "stream",
     "text": [
      "The train RMSE is 265695.4384148166.\n",
      "The validate RMSE is 366905.15756065975.\n"
     ]
    },
    {
     "data": {
      "text/html": [
       "<style>#sk-container-id-9 {color: black;}#sk-container-id-9 pre{padding: 0;}#sk-container-id-9 div.sk-toggleable {background-color: white;}#sk-container-id-9 label.sk-toggleable__label {cursor: pointer;display: block;width: 100%;margin-bottom: 0;padding: 0.3em;box-sizing: border-box;text-align: center;}#sk-container-id-9 label.sk-toggleable__label-arrow:before {content: \"▸\";float: left;margin-right: 0.25em;color: #696969;}#sk-container-id-9 label.sk-toggleable__label-arrow:hover:before {color: black;}#sk-container-id-9 div.sk-estimator:hover label.sk-toggleable__label-arrow:before {color: black;}#sk-container-id-9 div.sk-toggleable__content {max-height: 0;max-width: 0;overflow: hidden;text-align: left;background-color: #f0f8ff;}#sk-container-id-9 div.sk-toggleable__content pre {margin: 0.2em;color: black;border-radius: 0.25em;background-color: #f0f8ff;}#sk-container-id-9 input.sk-toggleable__control:checked~div.sk-toggleable__content {max-height: 200px;max-width: 100%;overflow: auto;}#sk-container-id-9 input.sk-toggleable__control:checked~label.sk-toggleable__label-arrow:before {content: \"▾\";}#sk-container-id-9 div.sk-estimator input.sk-toggleable__control:checked~label.sk-toggleable__label {background-color: #d4ebff;}#sk-container-id-9 div.sk-label input.sk-toggleable__control:checked~label.sk-toggleable__label {background-color: #d4ebff;}#sk-container-id-9 input.sk-hidden--visually {border: 0;clip: rect(1px 1px 1px 1px);clip: rect(1px, 1px, 1px, 1px);height: 1px;margin: -1px;overflow: hidden;padding: 0;position: absolute;width: 1px;}#sk-container-id-9 div.sk-estimator {font-family: monospace;background-color: #f0f8ff;border: 1px dotted black;border-radius: 0.25em;box-sizing: border-box;margin-bottom: 0.5em;}#sk-container-id-9 div.sk-estimator:hover {background-color: #d4ebff;}#sk-container-id-9 div.sk-parallel-item::after {content: \"\";width: 100%;border-bottom: 1px solid gray;flex-grow: 1;}#sk-container-id-9 div.sk-label:hover label.sk-toggleable__label {background-color: #d4ebff;}#sk-container-id-9 div.sk-serial::before {content: \"\";position: absolute;border-left: 1px solid gray;box-sizing: border-box;top: 0;bottom: 0;left: 50%;z-index: 0;}#sk-container-id-9 div.sk-serial {display: flex;flex-direction: column;align-items: center;background-color: white;padding-right: 0.2em;padding-left: 0.2em;position: relative;}#sk-container-id-9 div.sk-item {position: relative;z-index: 1;}#sk-container-id-9 div.sk-parallel {display: flex;align-items: stretch;justify-content: center;background-color: white;position: relative;}#sk-container-id-9 div.sk-item::before, #sk-container-id-9 div.sk-parallel-item::before {content: \"\";position: absolute;border-left: 1px solid gray;box-sizing: border-box;top: 0;bottom: 0;left: 50%;z-index: -1;}#sk-container-id-9 div.sk-parallel-item {display: flex;flex-direction: column;z-index: 1;position: relative;background-color: white;}#sk-container-id-9 div.sk-parallel-item:first-child::after {align-self: flex-end;width: 50%;}#sk-container-id-9 div.sk-parallel-item:last-child::after {align-self: flex-start;width: 50%;}#sk-container-id-9 div.sk-parallel-item:only-child::after {width: 0;}#sk-container-id-9 div.sk-dashed-wrapped {border: 1px dashed gray;margin: 0 0.4em 0.5em 0.4em;box-sizing: border-box;padding-bottom: 0.4em;background-color: white;}#sk-container-id-9 div.sk-label label {font-family: monospace;font-weight: bold;display: inline-block;line-height: 1.2em;}#sk-container-id-9 div.sk-label-container {text-align: center;}#sk-container-id-9 div.sk-container {/* jupyter's `normalize.less` sets `[hidden] { display: none; }` but bootstrap.min.css set `[hidden] { display: none !important; }` so we also need the `!important` here to be able to override the default hidden behavior on the sphinx rendered scikit-learn.org. See: https://github.com/scikit-learn/scikit-learn/issues/21755 */display: inline-block !important;position: relative;}#sk-container-id-9 div.sk-text-repr-fallback {display: none;}</style><div id=\"sk-container-id-9\" class=\"sk-top-container\"><div class=\"sk-text-repr-fallback\"><pre>RandomForestRegressor(max_depth=10, min_samples_split=4)</pre><b>In a Jupyter environment, please rerun this cell to show the HTML representation or trust the notebook. <br />On GitHub, the HTML representation is unable to render, please try loading this page with nbviewer.org.</b></div><div class=\"sk-container\" hidden><div class=\"sk-item\"><div class=\"sk-estimator sk-toggleable\"><input class=\"sk-toggleable__control sk-hidden--visually\" id=\"sk-estimator-id-11\" type=\"checkbox\" checked><label for=\"sk-estimator-id-11\" class=\"sk-toggleable__label sk-toggleable__label-arrow\">RandomForestRegressor</label><div class=\"sk-toggleable__content\"><pre>RandomForestRegressor(max_depth=10, min_samples_split=4)</pre></div></div></div></div></div>"
      ],
      "text/plain": [
       "RandomForestRegressor(max_depth=10, min_samples_split=4)"
      ]
     },
     "execution_count": 46,
     "metadata": {},
     "output_type": "execute_result"
    }
   ],
   "source": [
    "train_model(rf, X_train_s, y_train, X_val_s, y_val)"
   ]
  },
  {
   "cell_type": "code",
   "execution_count": 49,
   "id": "cc89bd70-d580-4827-ab69-f9ef6abea056",
   "metadata": {},
   "outputs": [
    {
     "name": "stderr",
     "output_type": "stream",
     "text": [
      "/opt/homebrew/anaconda3/lib/python3.10/site-packages/joblib/externals/loky/process_executor.py:752: UserWarning: A worker stopped while some jobs were given to the executor. This can be caused by a too short worker timeout or by a memory leak.\n",
      "  warnings.warn(\n",
      "/opt/homebrew/anaconda3/lib/python3.10/site-packages/sklearn/model_selection/_validation.py:425: FitFailedWarning: \n",
      "540 fits failed out of a total of 1620.\n",
      "The score on these train-test partitions for these parameters will be set to nan.\n",
      "If these failures are not expected, you can try to debug them by setting error_score='raise'.\n",
      "\n",
      "Below are more details about the failures:\n",
      "--------------------------------------------------------------------------------\n",
      "148 fits failed with the following error:\n",
      "Traceback (most recent call last):\n",
      "  File \"/opt/homebrew/anaconda3/lib/python3.10/site-packages/sklearn/model_selection/_validation.py\", line 732, in _fit_and_score\n",
      "    estimator.fit(X_train, y_train, **fit_params)\n",
      "  File \"/opt/homebrew/anaconda3/lib/python3.10/site-packages/sklearn/base.py\", line 1144, in wrapper\n",
      "    estimator._validate_params()\n",
      "  File \"/opt/homebrew/anaconda3/lib/python3.10/site-packages/sklearn/base.py\", line 637, in _validate_params\n",
      "    validate_parameter_constraints(\n",
      "  File \"/opt/homebrew/anaconda3/lib/python3.10/site-packages/sklearn/utils/_param_validation.py\", line 95, in validate_parameter_constraints\n",
      "    raise InvalidParameterError(\n",
      "sklearn.utils._param_validation.InvalidParameterError: The 'max_features' parameter of RandomForestRegressor must be an int in the range [1, inf), a float in the range (0.0, 1.0], a str among {'log2', 'sqrt'} or None. Got 'auto' instead.\n",
      "\n",
      "--------------------------------------------------------------------------------\n",
      "392 fits failed with the following error:\n",
      "Traceback (most recent call last):\n",
      "  File \"/opt/homebrew/anaconda3/lib/python3.10/site-packages/sklearn/model_selection/_validation.py\", line 732, in _fit_and_score\n",
      "    estimator.fit(X_train, y_train, **fit_params)\n",
      "  File \"/opt/homebrew/anaconda3/lib/python3.10/site-packages/sklearn/base.py\", line 1144, in wrapper\n",
      "    estimator._validate_params()\n",
      "  File \"/opt/homebrew/anaconda3/lib/python3.10/site-packages/sklearn/base.py\", line 637, in _validate_params\n",
      "    validate_parameter_constraints(\n",
      "  File \"/opt/homebrew/anaconda3/lib/python3.10/site-packages/sklearn/utils/_param_validation.py\", line 95, in validate_parameter_constraints\n",
      "    raise InvalidParameterError(\n",
      "sklearn.utils._param_validation.InvalidParameterError: The 'max_features' parameter of RandomForestRegressor must be an int in the range [1, inf), a float in the range (0.0, 1.0], a str among {'sqrt', 'log2'} or None. Got 'auto' instead.\n",
      "\n",
      "  warnings.warn(some_fits_failed_message, FitFailedWarning)\n",
      "/opt/homebrew/anaconda3/lib/python3.10/site-packages/sklearn/model_selection/_search.py:976: UserWarning: One or more of the test scores are non-finite: [            nan             nan             nan             nan\n",
      "             nan             nan             nan             nan\n",
      "             nan             nan             nan             nan\n",
      "             nan             nan             nan             nan\n",
      "             nan             nan             nan             nan\n",
      "             nan             nan             nan             nan\n",
      "             nan             nan             nan -1.33543570e+11\n",
      " -1.33613189e+11 -1.33155295e+11 -1.33277897e+11 -1.33085774e+11\n",
      " -1.33587542e+11 -1.34123584e+11 -1.33981970e+11 -1.33816871e+11\n",
      " -1.35653446e+11 -1.33711922e+11 -1.33356140e+11 -1.34742945e+11\n",
      " -1.34061872e+11 -1.33859009e+11 -1.34654221e+11 -1.33736245e+11\n",
      " -1.33927047e+11 -1.35915633e+11 -1.34990108e+11 -1.34831753e+11\n",
      " -1.35691534e+11 -1.35121678e+11 -1.34992725e+11 -1.35245678e+11\n",
      " -1.35445315e+11 -1.35424907e+11 -1.35154685e+11 -1.33610594e+11\n",
      " -1.32365537e+11 -1.33800205e+11 -1.33969003e+11 -1.33141621e+11\n",
      " -1.34835797e+11 -1.33992783e+11 -1.33473565e+11 -1.33897674e+11\n",
      " -1.34215484e+11 -1.33448629e+11 -1.34503681e+11 -1.33742404e+11\n",
      " -1.34117745e+11 -1.35294034e+11 -1.34959587e+11 -1.34318598e+11\n",
      " -1.35278731e+11 -1.35658240e+11 -1.35606752e+11 -1.36141083e+11\n",
      " -1.35184906e+11 -1.35271558e+11 -1.35851189e+11 -1.35485568e+11\n",
      " -1.35323121e+11             nan             nan             nan\n",
      "             nan             nan             nan             nan\n",
      "             nan             nan             nan             nan\n",
      "             nan             nan             nan             nan\n",
      "             nan             nan             nan             nan\n",
      "             nan             nan             nan             nan\n",
      "             nan             nan             nan             nan\n",
      " -1.36146659e+11 -1.35391124e+11 -1.36161461e+11 -1.37203442e+11\n",
      " -1.36542684e+11 -1.36343954e+11 -1.36998344e+11 -1.36393123e+11\n",
      " -1.36262002e+11 -1.36379202e+11 -1.36493296e+11 -1.36144519e+11\n",
      " -1.37326926e+11 -1.36693433e+11 -1.37018694e+11 -1.37310922e+11\n",
      " -1.37227419e+11 -1.37335121e+11 -1.38124532e+11 -1.37675155e+11\n",
      " -1.37315316e+11 -1.37576741e+11 -1.38247752e+11 -1.37907648e+11\n",
      " -1.37925618e+11 -1.37817681e+11 -1.37979763e+11 -1.36646968e+11\n",
      " -1.36428002e+11 -1.36766702e+11 -1.37263899e+11 -1.36765890e+11\n",
      " -1.37226748e+11 -1.37728400e+11 -1.37227094e+11 -1.37486248e+11\n",
      " -1.37466315e+11 -1.36806820e+11 -1.36964784e+11 -1.37565287e+11\n",
      " -1.37820073e+11 -1.37844851e+11 -1.38154256e+11 -1.38305098e+11\n",
      " -1.37593011e+11 -1.38703036e+11 -1.38465455e+11 -1.38472894e+11\n",
      " -1.38705100e+11 -1.38640497e+11 -1.38764652e+11 -1.38800726e+11\n",
      " -1.38455800e+11 -1.38638692e+11             nan             nan\n",
      "             nan             nan             nan             nan\n",
      "             nan             nan             nan             nan\n",
      "             nan             nan             nan             nan\n",
      "             nan             nan             nan             nan\n",
      "             nan             nan             nan             nan\n",
      "             nan             nan             nan             nan\n",
      "             nan -1.33114607e+11 -1.32758190e+11 -1.32334753e+11\n",
      " -1.34530144e+11 -1.34072666e+11 -1.33006857e+11 -1.33486570e+11\n",
      " -1.34017756e+11 -1.33563094e+11 -1.35281555e+11 -1.33696222e+11\n",
      " -1.33693039e+11 -1.33732453e+11 -1.33987093e+11 -1.33372329e+11\n",
      " -1.34782398e+11 -1.34251197e+11 -1.34305695e+11 -1.35650813e+11\n",
      " -1.34866046e+11 -1.34930862e+11 -1.35243244e+11 -1.34456066e+11\n",
      " -1.34837304e+11 -1.35423397e+11 -1.34737816e+11 -1.34936784e+11\n",
      " -1.34147844e+11 -1.32490031e+11 -1.32476287e+11 -1.32329387e+11\n",
      " -1.33622931e+11 -1.33050008e+11 -1.35034106e+11 -1.33789613e+11\n",
      " -1.33476591e+11 -1.35100420e+11 -1.33933053e+11 -1.33617603e+11\n",
      " -1.35632172e+11 -1.34455243e+11 -1.33784248e+11 -1.35111340e+11\n",
      " -1.33884609e+11 -1.34087609e+11 -1.35407195e+11 -1.35197287e+11\n",
      " -1.34874205e+11 -1.35397831e+11 -1.35418492e+11 -1.35247118e+11\n",
      " -1.36161965e+11 -1.35134708e+11 -1.35090238e+11             nan\n",
      "             nan             nan             nan             nan\n",
      "             nan             nan             nan             nan\n",
      "             nan             nan             nan             nan\n",
      "             nan             nan             nan             nan\n",
      "             nan             nan             nan             nan\n",
      "             nan             nan             nan             nan\n",
      "             nan             nan -1.33354644e+11 -1.33165839e+11\n",
      " -1.32729702e+11 -1.34594690e+11 -1.33096954e+11 -1.33509168e+11\n",
      " -1.35564096e+11 -1.33446109e+11 -1.33613228e+11 -1.34163627e+11\n",
      " -1.34057647e+11 -1.34406309e+11 -1.34510262e+11 -1.33763817e+11\n",
      " -1.33662951e+11 -1.35587723e+11 -1.33877254e+11 -1.34346787e+11\n",
      " -1.35639617e+11 -1.34551179e+11 -1.34876078e+11 -1.35687496e+11\n",
      " -1.34869619e+11 -1.34862921e+11 -1.35180292e+11 -1.35018709e+11\n",
      " -1.34902620e+11 -1.34318164e+11 -1.32812509e+11 -1.33319378e+11\n",
      " -1.34119954e+11 -1.32989820e+11 -1.33065146e+11 -1.34388337e+11\n",
      " -1.33562107e+11 -1.33741310e+11 -1.34012036e+11 -1.34003844e+11\n",
      " -1.33803850e+11 -1.34183745e+11 -1.33680431e+11 -1.34270964e+11\n",
      " -1.34774488e+11 -1.34054033e+11 -1.34112057e+11 -1.35776536e+11\n",
      " -1.34886717e+11 -1.35246699e+11 -1.35762578e+11 -1.34818322e+11\n",
      " -1.35243594e+11 -1.35701000e+11 -1.35521862e+11 -1.35199645e+11]\n",
      "  warnings.warn(\n"
     ]
    },
    {
     "data": {
      "text/html": [
       "<style>#sk-container-id-12 {color: black;}#sk-container-id-12 pre{padding: 0;}#sk-container-id-12 div.sk-toggleable {background-color: white;}#sk-container-id-12 label.sk-toggleable__label {cursor: pointer;display: block;width: 100%;margin-bottom: 0;padding: 0.3em;box-sizing: border-box;text-align: center;}#sk-container-id-12 label.sk-toggleable__label-arrow:before {content: \"▸\";float: left;margin-right: 0.25em;color: #696969;}#sk-container-id-12 label.sk-toggleable__label-arrow:hover:before {color: black;}#sk-container-id-12 div.sk-estimator:hover label.sk-toggleable__label-arrow:before {color: black;}#sk-container-id-12 div.sk-toggleable__content {max-height: 0;max-width: 0;overflow: hidden;text-align: left;background-color: #f0f8ff;}#sk-container-id-12 div.sk-toggleable__content pre {margin: 0.2em;color: black;border-radius: 0.25em;background-color: #f0f8ff;}#sk-container-id-12 input.sk-toggleable__control:checked~div.sk-toggleable__content {max-height: 200px;max-width: 100%;overflow: auto;}#sk-container-id-12 input.sk-toggleable__control:checked~label.sk-toggleable__label-arrow:before {content: \"▾\";}#sk-container-id-12 div.sk-estimator input.sk-toggleable__control:checked~label.sk-toggleable__label {background-color: #d4ebff;}#sk-container-id-12 div.sk-label input.sk-toggleable__control:checked~label.sk-toggleable__label {background-color: #d4ebff;}#sk-container-id-12 input.sk-hidden--visually {border: 0;clip: rect(1px 1px 1px 1px);clip: rect(1px, 1px, 1px, 1px);height: 1px;margin: -1px;overflow: hidden;padding: 0;position: absolute;width: 1px;}#sk-container-id-12 div.sk-estimator {font-family: monospace;background-color: #f0f8ff;border: 1px dotted black;border-radius: 0.25em;box-sizing: border-box;margin-bottom: 0.5em;}#sk-container-id-12 div.sk-estimator:hover {background-color: #d4ebff;}#sk-container-id-12 div.sk-parallel-item::after {content: \"\";width: 100%;border-bottom: 1px solid gray;flex-grow: 1;}#sk-container-id-12 div.sk-label:hover label.sk-toggleable__label {background-color: #d4ebff;}#sk-container-id-12 div.sk-serial::before {content: \"\";position: absolute;border-left: 1px solid gray;box-sizing: border-box;top: 0;bottom: 0;left: 50%;z-index: 0;}#sk-container-id-12 div.sk-serial {display: flex;flex-direction: column;align-items: center;background-color: white;padding-right: 0.2em;padding-left: 0.2em;position: relative;}#sk-container-id-12 div.sk-item {position: relative;z-index: 1;}#sk-container-id-12 div.sk-parallel {display: flex;align-items: stretch;justify-content: center;background-color: white;position: relative;}#sk-container-id-12 div.sk-item::before, #sk-container-id-12 div.sk-parallel-item::before {content: \"\";position: absolute;border-left: 1px solid gray;box-sizing: border-box;top: 0;bottom: 0;left: 50%;z-index: -1;}#sk-container-id-12 div.sk-parallel-item {display: flex;flex-direction: column;z-index: 1;position: relative;background-color: white;}#sk-container-id-12 div.sk-parallel-item:first-child::after {align-self: flex-end;width: 50%;}#sk-container-id-12 div.sk-parallel-item:last-child::after {align-self: flex-start;width: 50%;}#sk-container-id-12 div.sk-parallel-item:only-child::after {width: 0;}#sk-container-id-12 div.sk-dashed-wrapped {border: 1px dashed gray;margin: 0 0.4em 0.5em 0.4em;box-sizing: border-box;padding-bottom: 0.4em;background-color: white;}#sk-container-id-12 div.sk-label label {font-family: monospace;font-weight: bold;display: inline-block;line-height: 1.2em;}#sk-container-id-12 div.sk-label-container {text-align: center;}#sk-container-id-12 div.sk-container {/* jupyter's `normalize.less` sets `[hidden] { display: none; }` but bootstrap.min.css set `[hidden] { display: none !important; }` so we also need the `!important` here to be able to override the default hidden behavior on the sphinx rendered scikit-learn.org. See: https://github.com/scikit-learn/scikit-learn/issues/21755 */display: inline-block !important;position: relative;}#sk-container-id-12 div.sk-text-repr-fallback {display: none;}</style><div id=\"sk-container-id-12\" class=\"sk-top-container\"><div class=\"sk-text-repr-fallback\"><pre>GridSearchCV(cv=5,\n",
       "             estimator=RandomForestRegressor(max_depth=10, min_samples_split=4),\n",
       "             n_jobs=-1,\n",
       "             param_grid={&#x27;max_depth&#x27;: [None, 10, 20, 30],\n",
       "                         &#x27;max_features&#x27;: [&#x27;auto&#x27;, &#x27;sqrt&#x27;, &#x27;log2&#x27;],\n",
       "                         &#x27;min_samples_leaf&#x27;: [1, 2, 4],\n",
       "                         &#x27;min_samples_split&#x27;: [2, 5, 10],\n",
       "                         &#x27;n_estimators&#x27;: [100, 200, 300]},\n",
       "             scoring=&#x27;neg_mean_squared_error&#x27;)</pre><b>In a Jupyter environment, please rerun this cell to show the HTML representation or trust the notebook. <br />On GitHub, the HTML representation is unable to render, please try loading this page with nbviewer.org.</b></div><div class=\"sk-container\" hidden><div class=\"sk-item sk-dashed-wrapped\"><div class=\"sk-label-container\"><div class=\"sk-label sk-toggleable\"><input class=\"sk-toggleable__control sk-hidden--visually\" id=\"sk-estimator-id-14\" type=\"checkbox\" ><label for=\"sk-estimator-id-14\" class=\"sk-toggleable__label sk-toggleable__label-arrow\">GridSearchCV</label><div class=\"sk-toggleable__content\"><pre>GridSearchCV(cv=5,\n",
       "             estimator=RandomForestRegressor(max_depth=10, min_samples_split=4),\n",
       "             n_jobs=-1,\n",
       "             param_grid={&#x27;max_depth&#x27;: [None, 10, 20, 30],\n",
       "                         &#x27;max_features&#x27;: [&#x27;auto&#x27;, &#x27;sqrt&#x27;, &#x27;log2&#x27;],\n",
       "                         &#x27;min_samples_leaf&#x27;: [1, 2, 4],\n",
       "                         &#x27;min_samples_split&#x27;: [2, 5, 10],\n",
       "                         &#x27;n_estimators&#x27;: [100, 200, 300]},\n",
       "             scoring=&#x27;neg_mean_squared_error&#x27;)</pre></div></div></div><div class=\"sk-parallel\"><div class=\"sk-parallel-item\"><div class=\"sk-item\"><div class=\"sk-label-container\"><div class=\"sk-label sk-toggleable\"><input class=\"sk-toggleable__control sk-hidden--visually\" id=\"sk-estimator-id-15\" type=\"checkbox\" ><label for=\"sk-estimator-id-15\" class=\"sk-toggleable__label sk-toggleable__label-arrow\">estimator: RandomForestRegressor</label><div class=\"sk-toggleable__content\"><pre>RandomForestRegressor(max_depth=10, min_samples_split=4)</pre></div></div></div><div class=\"sk-serial\"><div class=\"sk-item\"><div class=\"sk-estimator sk-toggleable\"><input class=\"sk-toggleable__control sk-hidden--visually\" id=\"sk-estimator-id-16\" type=\"checkbox\" ><label for=\"sk-estimator-id-16\" class=\"sk-toggleable__label sk-toggleable__label-arrow\">RandomForestRegressor</label><div class=\"sk-toggleable__content\"><pre>RandomForestRegressor(max_depth=10, min_samples_split=4)</pre></div></div></div></div></div></div></div></div></div></div>"
      ],
      "text/plain": [
       "GridSearchCV(cv=5,\n",
       "             estimator=RandomForestRegressor(max_depth=10, min_samples_split=4),\n",
       "             n_jobs=-1,\n",
       "             param_grid={'max_depth': [None, 10, 20, 30],\n",
       "                         'max_features': ['auto', 'sqrt', 'log2'],\n",
       "                         'min_samples_leaf': [1, 2, 4],\n",
       "                         'min_samples_split': [2, 5, 10],\n",
       "                         'n_estimators': [100, 200, 300]},\n",
       "             scoring='neg_mean_squared_error')"
      ]
     },
     "execution_count": 49,
     "metadata": {},
     "output_type": "execute_result"
    }
   ],
   "source": [
    "grid_search.fit(X_train, y_train)"
   ]
  },
  {
   "cell_type": "code",
   "execution_count": 50,
   "id": "5b767958-fa7f-439c-aef3-8f2cee00ae51",
   "metadata": {},
   "outputs": [],
   "source": [
    "best_params = grid_search.best_params_\n",
    "best_rf = grid_search.best_estimator_"
   ]
  },
  {
   "cell_type": "code",
   "execution_count": null,
   "id": "f358e82b-47c2-49af-b9d9-f14518dc2ec7",
   "metadata": {},
   "outputs": [],
   "source": []
  },
  {
   "cell_type": "code",
   "execution_count": null,
   "id": "13ad6f85-ca1b-496f-907b-18d04c060528",
   "metadata": {},
   "outputs": [],
   "source": []
  },
  {
   "cell_type": "code",
   "execution_count": null,
   "id": "59fdf408-63cd-41da-aa78-4663e4900003",
   "metadata": {},
   "outputs": [],
   "source": []
  },
  {
   "cell_type": "code",
   "execution_count": null,
   "id": "67602597-0517-474c-9b7c-68c3374de664",
   "metadata": {},
   "outputs": [],
   "source": []
  },
  {
   "cell_type": "code",
   "execution_count": null,
   "id": "1bc3a8ad-885b-4ad6-aabd-8968c3e6cbbe",
   "metadata": {},
   "outputs": [],
   "source": []
  },
  {
   "cell_type": "code",
   "execution_count": 47,
   "id": "1c169a7a-b4ad-4202-a076-11c8e2856e74",
   "metadata": {
    "jp-MarkdownHeadingCollapsed": true
   },
   "outputs": [
    {
     "name": "stdout",
     "output_type": "stream",
     "text": [
      "The train RMSE is 194472.201581023.\n",
      "The validate RMSE is 368231.117766504.\n"
     ]
    },
    {
     "data": {
      "text/html": [
       "<style>#sk-container-id-10 {color: black;}#sk-container-id-10 pre{padding: 0;}#sk-container-id-10 div.sk-toggleable {background-color: white;}#sk-container-id-10 label.sk-toggleable__label {cursor: pointer;display: block;width: 100%;margin-bottom: 0;padding: 0.3em;box-sizing: border-box;text-align: center;}#sk-container-id-10 label.sk-toggleable__label-arrow:before {content: \"▸\";float: left;margin-right: 0.25em;color: #696969;}#sk-container-id-10 label.sk-toggleable__label-arrow:hover:before {color: black;}#sk-container-id-10 div.sk-estimator:hover label.sk-toggleable__label-arrow:before {color: black;}#sk-container-id-10 div.sk-toggleable__content {max-height: 0;max-width: 0;overflow: hidden;text-align: left;background-color: #f0f8ff;}#sk-container-id-10 div.sk-toggleable__content pre {margin: 0.2em;color: black;border-radius: 0.25em;background-color: #f0f8ff;}#sk-container-id-10 input.sk-toggleable__control:checked~div.sk-toggleable__content {max-height: 200px;max-width: 100%;overflow: auto;}#sk-container-id-10 input.sk-toggleable__control:checked~label.sk-toggleable__label-arrow:before {content: \"▾\";}#sk-container-id-10 div.sk-estimator input.sk-toggleable__control:checked~label.sk-toggleable__label {background-color: #d4ebff;}#sk-container-id-10 div.sk-label input.sk-toggleable__control:checked~label.sk-toggleable__label {background-color: #d4ebff;}#sk-container-id-10 input.sk-hidden--visually {border: 0;clip: rect(1px 1px 1px 1px);clip: rect(1px, 1px, 1px, 1px);height: 1px;margin: -1px;overflow: hidden;padding: 0;position: absolute;width: 1px;}#sk-container-id-10 div.sk-estimator {font-family: monospace;background-color: #f0f8ff;border: 1px dotted black;border-radius: 0.25em;box-sizing: border-box;margin-bottom: 0.5em;}#sk-container-id-10 div.sk-estimator:hover {background-color: #d4ebff;}#sk-container-id-10 div.sk-parallel-item::after {content: \"\";width: 100%;border-bottom: 1px solid gray;flex-grow: 1;}#sk-container-id-10 div.sk-label:hover label.sk-toggleable__label {background-color: #d4ebff;}#sk-container-id-10 div.sk-serial::before {content: \"\";position: absolute;border-left: 1px solid gray;box-sizing: border-box;top: 0;bottom: 0;left: 50%;z-index: 0;}#sk-container-id-10 div.sk-serial {display: flex;flex-direction: column;align-items: center;background-color: white;padding-right: 0.2em;padding-left: 0.2em;position: relative;}#sk-container-id-10 div.sk-item {position: relative;z-index: 1;}#sk-container-id-10 div.sk-parallel {display: flex;align-items: stretch;justify-content: center;background-color: white;position: relative;}#sk-container-id-10 div.sk-item::before, #sk-container-id-10 div.sk-parallel-item::before {content: \"\";position: absolute;border-left: 1px solid gray;box-sizing: border-box;top: 0;bottom: 0;left: 50%;z-index: -1;}#sk-container-id-10 div.sk-parallel-item {display: flex;flex-direction: column;z-index: 1;position: relative;background-color: white;}#sk-container-id-10 div.sk-parallel-item:first-child::after {align-self: flex-end;width: 50%;}#sk-container-id-10 div.sk-parallel-item:last-child::after {align-self: flex-start;width: 50%;}#sk-container-id-10 div.sk-parallel-item:only-child::after {width: 0;}#sk-container-id-10 div.sk-dashed-wrapped {border: 1px dashed gray;margin: 0 0.4em 0.5em 0.4em;box-sizing: border-box;padding-bottom: 0.4em;background-color: white;}#sk-container-id-10 div.sk-label label {font-family: monospace;font-weight: bold;display: inline-block;line-height: 1.2em;}#sk-container-id-10 div.sk-label-container {text-align: center;}#sk-container-id-10 div.sk-container {/* jupyter's `normalize.less` sets `[hidden] { display: none; }` but bootstrap.min.css set `[hidden] { display: none !important; }` so we also need the `!important` here to be able to override the default hidden behavior on the sphinx rendered scikit-learn.org. See: https://github.com/scikit-learn/scikit-learn/issues/21755 */display: inline-block !important;position: relative;}#sk-container-id-10 div.sk-text-repr-fallback {display: none;}</style><div id=\"sk-container-id-10\" class=\"sk-top-container\"><div class=\"sk-text-repr-fallback\"><pre>XGBRegressor(base_score=None, booster=None, callbacks=None,\n",
       "             colsample_bylevel=None, colsample_bynode=None,\n",
       "             colsample_bytree=None, early_stopping_rounds=None,\n",
       "             enable_categorical=False, eval_metric=None, feature_types=None,\n",
       "             gamma=None, gpu_id=None, grow_policy=None, importance_type=None,\n",
       "             interaction_constraints=None, learning_rate=None, max_bin=None,\n",
       "             max_cat_threshold=None, max_cat_to_onehot=None,\n",
       "             max_delta_step=None, max_depth=None, max_leaves=None,\n",
       "             min_child_weight=None, missing=nan, monotone_constraints=None,\n",
       "             n_estimators=100, n_jobs=None, num_parallel_tree=None,\n",
       "             predictor=None, random_state=None, ...)</pre><b>In a Jupyter environment, please rerun this cell to show the HTML representation or trust the notebook. <br />On GitHub, the HTML representation is unable to render, please try loading this page with nbviewer.org.</b></div><div class=\"sk-container\" hidden><div class=\"sk-item\"><div class=\"sk-estimator sk-toggleable\"><input class=\"sk-toggleable__control sk-hidden--visually\" id=\"sk-estimator-id-12\" type=\"checkbox\" checked><label for=\"sk-estimator-id-12\" class=\"sk-toggleable__label sk-toggleable__label-arrow\">XGBRegressor</label><div class=\"sk-toggleable__content\"><pre>XGBRegressor(base_score=None, booster=None, callbacks=None,\n",
       "             colsample_bylevel=None, colsample_bynode=None,\n",
       "             colsample_bytree=None, early_stopping_rounds=None,\n",
       "             enable_categorical=False, eval_metric=None, feature_types=None,\n",
       "             gamma=None, gpu_id=None, grow_policy=None, importance_type=None,\n",
       "             interaction_constraints=None, learning_rate=None, max_bin=None,\n",
       "             max_cat_threshold=None, max_cat_to_onehot=None,\n",
       "             max_delta_step=None, max_depth=None, max_leaves=None,\n",
       "             min_child_weight=None, missing=nan, monotone_constraints=None,\n",
       "             n_estimators=100, n_jobs=None, num_parallel_tree=None,\n",
       "             predictor=None, random_state=None, ...)</pre></div></div></div></div></div>"
      ],
      "text/plain": [
       "XGBRegressor(base_score=None, booster=None, callbacks=None,\n",
       "             colsample_bylevel=None, colsample_bynode=None,\n",
       "             colsample_bytree=None, early_stopping_rounds=None,\n",
       "             enable_categorical=False, eval_metric=None, feature_types=None,\n",
       "             gamma=None, gpu_id=None, grow_policy=None, importance_type=None,\n",
       "             interaction_constraints=None, learning_rate=None, max_bin=None,\n",
       "             max_cat_threshold=None, max_cat_to_onehot=None,\n",
       "             max_delta_step=None, max_depth=None, max_leaves=None,\n",
       "             min_child_weight=None, missing=nan, monotone_constraints=None,\n",
       "             n_estimators=100, n_jobs=None, num_parallel_tree=None,\n",
       "             predictor=None, random_state=None, ...)"
      ]
     },
     "execution_count": 47,
     "metadata": {},
     "output_type": "execute_result"
    }
   ],
   "source": [
    "warnings.filterwarnings(\"ignore\", category=FutureWarning, module=\"xgboost\")\n",
    "# Create an instance of the XGBoost Regressor model.\n",
    "xgbr = XGBRegressor()\n",
    "\n",
    "# Train the XGBoost Regressor model on the training data (X_train_s, y_train).\n",
    "# Evaluate its performance using the validation data (X_val_s, y_val).\n",
    "train_model(xgbr, X_train_s, y_train, X_val_s, y_val)"
   ]
  },
  {
   "cell_type": "code",
   "execution_count": 48,
   "id": "783d7bab-0cc0-4c7a-8a5a-c06d5bef0bc9",
   "metadata": {
    "jp-MarkdownHeadingCollapsed": true,
    "scrolled": true
   },
   "outputs": [
    {
     "name": "stdout",
     "output_type": "stream",
     "text": [
      "The train RMSE is 275258.3712898204.\n",
      "The validate RMSE is 357228.542145154.\n"
     ]
    },
    {
     "data": {
      "text/html": [
       "<style>#sk-container-id-11 {color: black;}#sk-container-id-11 pre{padding: 0;}#sk-container-id-11 div.sk-toggleable {background-color: white;}#sk-container-id-11 label.sk-toggleable__label {cursor: pointer;display: block;width: 100%;margin-bottom: 0;padding: 0.3em;box-sizing: border-box;text-align: center;}#sk-container-id-11 label.sk-toggleable__label-arrow:before {content: \"▸\";float: left;margin-right: 0.25em;color: #696969;}#sk-container-id-11 label.sk-toggleable__label-arrow:hover:before {color: black;}#sk-container-id-11 div.sk-estimator:hover label.sk-toggleable__label-arrow:before {color: black;}#sk-container-id-11 div.sk-toggleable__content {max-height: 0;max-width: 0;overflow: hidden;text-align: left;background-color: #f0f8ff;}#sk-container-id-11 div.sk-toggleable__content pre {margin: 0.2em;color: black;border-radius: 0.25em;background-color: #f0f8ff;}#sk-container-id-11 input.sk-toggleable__control:checked~div.sk-toggleable__content {max-height: 200px;max-width: 100%;overflow: auto;}#sk-container-id-11 input.sk-toggleable__control:checked~label.sk-toggleable__label-arrow:before {content: \"▾\";}#sk-container-id-11 div.sk-estimator input.sk-toggleable__control:checked~label.sk-toggleable__label {background-color: #d4ebff;}#sk-container-id-11 div.sk-label input.sk-toggleable__control:checked~label.sk-toggleable__label {background-color: #d4ebff;}#sk-container-id-11 input.sk-hidden--visually {border: 0;clip: rect(1px 1px 1px 1px);clip: rect(1px, 1px, 1px, 1px);height: 1px;margin: -1px;overflow: hidden;padding: 0;position: absolute;width: 1px;}#sk-container-id-11 div.sk-estimator {font-family: monospace;background-color: #f0f8ff;border: 1px dotted black;border-radius: 0.25em;box-sizing: border-box;margin-bottom: 0.5em;}#sk-container-id-11 div.sk-estimator:hover {background-color: #d4ebff;}#sk-container-id-11 div.sk-parallel-item::after {content: \"\";width: 100%;border-bottom: 1px solid gray;flex-grow: 1;}#sk-container-id-11 div.sk-label:hover label.sk-toggleable__label {background-color: #d4ebff;}#sk-container-id-11 div.sk-serial::before {content: \"\";position: absolute;border-left: 1px solid gray;box-sizing: border-box;top: 0;bottom: 0;left: 50%;z-index: 0;}#sk-container-id-11 div.sk-serial {display: flex;flex-direction: column;align-items: center;background-color: white;padding-right: 0.2em;padding-left: 0.2em;position: relative;}#sk-container-id-11 div.sk-item {position: relative;z-index: 1;}#sk-container-id-11 div.sk-parallel {display: flex;align-items: stretch;justify-content: center;background-color: white;position: relative;}#sk-container-id-11 div.sk-item::before, #sk-container-id-11 div.sk-parallel-item::before {content: \"\";position: absolute;border-left: 1px solid gray;box-sizing: border-box;top: 0;bottom: 0;left: 50%;z-index: -1;}#sk-container-id-11 div.sk-parallel-item {display: flex;flex-direction: column;z-index: 1;position: relative;background-color: white;}#sk-container-id-11 div.sk-parallel-item:first-child::after {align-self: flex-end;width: 50%;}#sk-container-id-11 div.sk-parallel-item:last-child::after {align-self: flex-start;width: 50%;}#sk-container-id-11 div.sk-parallel-item:only-child::after {width: 0;}#sk-container-id-11 div.sk-dashed-wrapped {border: 1px dashed gray;margin: 0 0.4em 0.5em 0.4em;box-sizing: border-box;padding-bottom: 0.4em;background-color: white;}#sk-container-id-11 div.sk-label label {font-family: monospace;font-weight: bold;display: inline-block;line-height: 1.2em;}#sk-container-id-11 div.sk-label-container {text-align: center;}#sk-container-id-11 div.sk-container {/* jupyter's `normalize.less` sets `[hidden] { display: none; }` but bootstrap.min.css set `[hidden] { display: none !important; }` so we also need the `!important` here to be able to override the default hidden behavior on the sphinx rendered scikit-learn.org. See: https://github.com/scikit-learn/scikit-learn/issues/21755 */display: inline-block !important;position: relative;}#sk-container-id-11 div.sk-text-repr-fallback {display: none;}</style><div id=\"sk-container-id-11\" class=\"sk-top-container\"><div class=\"sk-text-repr-fallback\"><pre>XGBRegressor(base_score=None, booster=None, callbacks=None,\n",
       "             colsample_bylevel=None, colsample_bynode=None,\n",
       "             colsample_bytree=None, early_stopping_rounds=None,\n",
       "             enable_categorical=False, eval_metric=None, feature_types=None,\n",
       "             gamma=None, gpu_id=None, grow_policy=None, importance_type=None,\n",
       "             interaction_constraints=None, learning_rate=0.1, max_bin=None,\n",
       "             max_cat_threshold=None, max_cat_to_onehot=None,\n",
       "             max_delta_step=None, max_depth=5, max_leaves=None,\n",
       "             min_child_weight=None, missing=nan, monotone_constraints=None,\n",
       "             n_estimators=100, n_jobs=None, num_parallel_tree=None,\n",
       "             predictor=None, random_state=None, ...)</pre><b>In a Jupyter environment, please rerun this cell to show the HTML representation or trust the notebook. <br />On GitHub, the HTML representation is unable to render, please try loading this page with nbviewer.org.</b></div><div class=\"sk-container\" hidden><div class=\"sk-item\"><div class=\"sk-estimator sk-toggleable\"><input class=\"sk-toggleable__control sk-hidden--visually\" id=\"sk-estimator-id-13\" type=\"checkbox\" checked><label for=\"sk-estimator-id-13\" class=\"sk-toggleable__label sk-toggleable__label-arrow\">XGBRegressor</label><div class=\"sk-toggleable__content\"><pre>XGBRegressor(base_score=None, booster=None, callbacks=None,\n",
       "             colsample_bylevel=None, colsample_bynode=None,\n",
       "             colsample_bytree=None, early_stopping_rounds=None,\n",
       "             enable_categorical=False, eval_metric=None, feature_types=None,\n",
       "             gamma=None, gpu_id=None, grow_policy=None, importance_type=None,\n",
       "             interaction_constraints=None, learning_rate=0.1, max_bin=None,\n",
       "             max_cat_threshold=None, max_cat_to_onehot=None,\n",
       "             max_delta_step=None, max_depth=5, max_leaves=None,\n",
       "             min_child_weight=None, missing=nan, monotone_constraints=None,\n",
       "             n_estimators=100, n_jobs=None, num_parallel_tree=None,\n",
       "             predictor=None, random_state=None, ...)</pre></div></div></div></div></div>"
      ],
      "text/plain": [
       "XGBRegressor(base_score=None, booster=None, callbacks=None,\n",
       "             colsample_bylevel=None, colsample_bynode=None,\n",
       "             colsample_bytree=None, early_stopping_rounds=None,\n",
       "             enable_categorical=False, eval_metric=None, feature_types=None,\n",
       "             gamma=None, gpu_id=None, grow_policy=None, importance_type=None,\n",
       "             interaction_constraints=None, learning_rate=0.1, max_bin=None,\n",
       "             max_cat_threshold=None, max_cat_to_onehot=None,\n",
       "             max_delta_step=None, max_depth=5, max_leaves=None,\n",
       "             min_child_weight=None, missing=nan, monotone_constraints=None,\n",
       "             n_estimators=100, n_jobs=None, num_parallel_tree=None,\n",
       "             predictor=None, random_state=None, ...)"
      ]
     },
     "execution_count": 48,
     "metadata": {},
     "output_type": "execute_result"
    }
   ],
   "source": [
    "warnings.filterwarnings(\"ignore\", category=FutureWarning, module=\"xgboost\")\n",
    "# Create an instance of the XGBoost Regressor model.\n",
    "xgbr = XGBRegressor(n_estimators=100, learning_rate=0.1, max_depth=5, subsample=1)\n",
    "\n",
    "# Train the XGBoost Regressor model on the training data (X_train_s, y_train).\n",
    "# Evaluate its performance using the validation data (X_val_s, y_val).\n",
    "train_model(xgbr, X_train_s, y_train, X_val_s, y_val)"
   ]
  },
  {
   "cell_type": "markdown",
   "id": "e1de9ab1-390f-461f-a77d-b4e0c961eaa3",
   "metadata": {},
   "source": [
    "df.latitude = df.latitude.astype(int)\n",
    "df.longitude = df.longitude.astype(int)"
   ]
  },
  {
   "cell_type": "markdown",
   "id": "b7119c61-c3ed-496e-9137-223572f91b9f",
   "metadata": {},
   "source": [
    "# Assuming you have a DataFrame 'df' with 'latitude' and 'longitude' columns\n",
    "latitude_df = pd.DataFrame(df['latitude'])\n",
    "longitude_df = pd.DataFrame(df['longitude'])\n",
    "\n",
    "# Perform reverse geocoding for each row in the DataFrames\n",
    "for index, row in latitude_df.iterrows():\n",
    "    latitude = row['latitude']\n",
    "    longitude = longitude_df.at[index, 'longitude']  # Access longitude value using 'at'\n",
    "    \n",
    "    location = geocoder.osm([latitude, longitude], method='reverse')\n",
    "    city = location.city\n",
    "    df['city']= city\n",
    "    print(f\"City at index {index}: {city}\")\n"
   ]
  },
  {
   "cell_type": "markdown",
   "id": "0344416d-769d-439e-ab8e-b06c9cbd6d17",
   "metadata": {},
   "source": [
    "pd.DataFrame(df.latitude).head()\n",
    "pd.DataFrame(df.longitude).head()"
   ]
  },
  {
   "cell_type": "markdown",
   "id": "4a8ff5e4-44bd-4130-8a08-5fbc1eed7b52",
   "metadata": {},
   "source": [
    "# Assuming 'df' is your DataFrame with 'latitude' and 'longitude' columns\n",
    "df['latitude'] = df['latitude'] / 1000000  # Add decimal place after the first two digits\n",
    "df['longitude'] = df['longitude'] / 1000000  # Add decimal place after the first three digits"
   ]
  },
  {
   "cell_type": "markdown",
   "id": "05cc2e0d-e72e-4da7-8534-c6716262479e",
   "metadata": {},
   "source": [
    "df.fips.value_counts()"
   ]
  }
 ],
 "metadata": {
  "kernelspec": {
   "display_name": "Python 3 (ipykernel)",
   "language": "python",
   "name": "python3"
  },
  "language_info": {
   "codemirror_mode": {
    "name": "ipython",
    "version": 3
   },
   "file_extension": ".py",
   "mimetype": "text/x-python",
   "name": "python",
   "nbconvert_exporter": "python",
   "pygments_lexer": "ipython3",
   "version": "3.10.12"
  }
 },
 "nbformat": 4,
 "nbformat_minor": 5
}
